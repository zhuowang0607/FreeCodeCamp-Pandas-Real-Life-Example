{
  "cells": [
    {
      "cell_type": "markdown",
      "metadata": {
        "id": "h5KZVghtxukk"
      },
      "source": [
        "![rmotr](https://user-images.githubusercontent.com/7065401/52071918-bda15380-2562-11e9-828c-7f95297e4a82.png)\n",
        "<hr style=\"margin-bottom: 40px;\">\n",
        "\n",
        "# The Sakila Database\n",
        "\n",
        "One of the best example databases out there is the <a href=\"https://dev.mysql.com/doc/sakila/en/\">Sakila Database</a>, which was originally created by MySQL and has been open sourced under the terms of the BSD License.\n",
        "\n",
        "The Sakila database is a nicely normalised schema modelling a DVD rental store, featuring things like films, actors, film-actor relationships, and a central inventory table that connects films, stores, and rentals.\n",
        "\n",
        "<img width=\"1200px\" src=\"https://user-images.githubusercontent.com/7065401/58504872-fa243b00-8161-11e9-85ed-4b7d8d7ce9f7.png\" />"
      ]
    },
    {
      "cell_type": "code",
      "source": [
        "from google.colab import drive\n",
        "drive.mount('/content/drive')"
      ],
      "metadata": {
        "id": "xLX_YHn4yMXr",
        "outputId": "f0c165a9-b96d-4bed-9eea-f9e5a2485dcc",
        "colab": {
          "base_uri": "https://localhost:8080/"
        }
      },
      "execution_count": 1,
      "outputs": [
        {
          "output_type": "stream",
          "name": "stdout",
          "text": [
            "Mounted at /content/drive\n"
          ]
        }
      ]
    },
    {
      "cell_type": "markdown",
      "metadata": {
        "id": "dttw1DrKxukn"
      },
      "source": [
        "![purple-divider](https://user-images.githubusercontent.com/7065401/52071927-c1cd7100-2562-11e9-908a-dde91ba14e59.png)\n",
        "\n",
        "## Hands on!"
      ]
    },
    {
      "cell_type": "code",
      "execution_count": 35,
      "metadata": {
        "id": "moi88vL5xukn"
      },
      "outputs": [],
      "source": [
        "import numpy as np\n",
        "import pandas as pd\n",
        "import matplotlib.pyplot as plt\n",
        "import sqlite3\n",
        "import seaborn as sns\n",
        "\n",
        "%matplotlib inline"
      ]
    },
    {
      "cell_type": "markdown",
      "metadata": {
        "id": "Ingx7k-pxuko"
      },
      "source": [
        "![green-divider](https://user-images.githubusercontent.com/7065401/52071924-c003ad80-2562-11e9-8297-1c6595f8a7ff.png)\n",
        "\n",
        "## Loading our data:"
      ]
    },
    {
      "cell_type": "code",
      "execution_count": 4,
      "metadata": {
        "id": "fPmoYq9Axuko"
      },
      "outputs": [],
      "source": [
        "conn = sqlite3.connect('/content/drive/MyDrive/Colab_Datasets/sakila.db') # Make sure to check the path.\n",
        "\n",
        "df = pd.read_sql('''\n",
        "    SELECT\n",
        "        rental.rental_id, rental.rental_date, rental.return_date,\n",
        "        customer.last_name AS customer_lastname,\n",
        "        store.store_id,\n",
        "        city.city AS rental_store_city,\n",
        "        film.title AS film_title, film.rental_duration AS film_rental_duration,\n",
        "        film.rental_rate AS film_rental_rate, film.replacement_cost AS film_replacement_cost,\n",
        "        film.rating AS film_rating\n",
        "    FROM rental\n",
        "    INNER JOIN customer ON rental.customer_id == customer.customer_id\n",
        "    INNER JOIN inventory ON rental.inventory_id == inventory.inventory_id\n",
        "    INNER JOIN store ON inventory.store_id == store.store_id\n",
        "    INNER JOIN address ON store.address_id == address.address_id\n",
        "    INNER JOIN city ON address.city_id == city.city_id\n",
        "    INNER JOIN film ON inventory.film_id == film.film_id\n",
        "    ;\n",
        "''', conn, index_col='rental_id', parse_dates=['rental_date', 'return_date'])"
      ]
    },
    {
      "cell_type": "markdown",
      "metadata": {
        "id": "GXG1pCO_xuko"
      },
      "source": [
        "![green-divider](https://user-images.githubusercontent.com/7065401/52071924-c003ad80-2562-11e9-8297-1c6595f8a7ff.png)\n",
        "\n",
        "## The data at a glance:"
      ]
    },
    {
      "cell_type": "code",
      "execution_count": 5,
      "metadata": {
        "id": "SKLiwUA0xukp",
        "outputId": "8f074363-015f-48bb-c29c-2f65291853a5",
        "colab": {
          "base_uri": "https://localhost:8080/",
          "height": 238
        }
      },
      "outputs": [
        {
          "output_type": "execute_result",
          "data": {
            "text/plain": [
              "                  rental_date         return_date customer_lastname  store_id  \\\n",
              "rental_id                                                                       \n",
              "1         2005-05-24 22:53:30 2005-05-26 22:04:30            HUNTER         1   \n",
              "2         2005-05-24 22:54:33 2005-05-28 19:40:33           COLLAZO         2   \n",
              "3         2005-05-24 23:03:39 2005-06-01 22:12:39           MURRELL         2   \n",
              "4         2005-05-24 23:04:41 2005-06-03 01:43:41             PURDY         1   \n",
              "5         2005-05-24 23:05:21 2005-06-02 04:33:21            HANSEN         2   \n",
              "\n",
              "          rental_store_city       film_title  film_rental_duration  \\\n",
              "rental_id                                                            \n",
              "1                Lethbridge  BLANKET BEVERLY                     7   \n",
              "2                 Woodridge     FREAKY POCUS                     7   \n",
              "3                 Woodridge    GRADUATE LORD                     7   \n",
              "4                Lethbridge    LOVE SUICIDES                     6   \n",
              "5                 Woodridge  IDOLS SNATCHERS                     5   \n",
              "\n",
              "           film_rental_rate  film_replacement_cost film_rating  \n",
              "rental_id                                                       \n",
              "1                      2.99                  21.99           G  \n",
              "2                      2.99                  16.99           R  \n",
              "3                      2.99                  14.99           G  \n",
              "4                      0.99                  21.99           R  \n",
              "5                      2.99                  29.99       NC-17  "
            ],
            "text/html": [
              "\n",
              "  <div id=\"df-f8b9de20-e8ba-47a0-bec1-8c8c04515e42\" class=\"colab-df-container\">\n",
              "    <div>\n",
              "<style scoped>\n",
              "    .dataframe tbody tr th:only-of-type {\n",
              "        vertical-align: middle;\n",
              "    }\n",
              "\n",
              "    .dataframe tbody tr th {\n",
              "        vertical-align: top;\n",
              "    }\n",
              "\n",
              "    .dataframe thead th {\n",
              "        text-align: right;\n",
              "    }\n",
              "</style>\n",
              "<table border=\"1\" class=\"dataframe\">\n",
              "  <thead>\n",
              "    <tr style=\"text-align: right;\">\n",
              "      <th></th>\n",
              "      <th>rental_date</th>\n",
              "      <th>return_date</th>\n",
              "      <th>customer_lastname</th>\n",
              "      <th>store_id</th>\n",
              "      <th>rental_store_city</th>\n",
              "      <th>film_title</th>\n",
              "      <th>film_rental_duration</th>\n",
              "      <th>film_rental_rate</th>\n",
              "      <th>film_replacement_cost</th>\n",
              "      <th>film_rating</th>\n",
              "    </tr>\n",
              "    <tr>\n",
              "      <th>rental_id</th>\n",
              "      <th></th>\n",
              "      <th></th>\n",
              "      <th></th>\n",
              "      <th></th>\n",
              "      <th></th>\n",
              "      <th></th>\n",
              "      <th></th>\n",
              "      <th></th>\n",
              "      <th></th>\n",
              "      <th></th>\n",
              "    </tr>\n",
              "  </thead>\n",
              "  <tbody>\n",
              "    <tr>\n",
              "      <th>1</th>\n",
              "      <td>2005-05-24 22:53:30</td>\n",
              "      <td>2005-05-26 22:04:30</td>\n",
              "      <td>HUNTER</td>\n",
              "      <td>1</td>\n",
              "      <td>Lethbridge</td>\n",
              "      <td>BLANKET BEVERLY</td>\n",
              "      <td>7</td>\n",
              "      <td>2.99</td>\n",
              "      <td>21.99</td>\n",
              "      <td>G</td>\n",
              "    </tr>\n",
              "    <tr>\n",
              "      <th>2</th>\n",
              "      <td>2005-05-24 22:54:33</td>\n",
              "      <td>2005-05-28 19:40:33</td>\n",
              "      <td>COLLAZO</td>\n",
              "      <td>2</td>\n",
              "      <td>Woodridge</td>\n",
              "      <td>FREAKY POCUS</td>\n",
              "      <td>7</td>\n",
              "      <td>2.99</td>\n",
              "      <td>16.99</td>\n",
              "      <td>R</td>\n",
              "    </tr>\n",
              "    <tr>\n",
              "      <th>3</th>\n",
              "      <td>2005-05-24 23:03:39</td>\n",
              "      <td>2005-06-01 22:12:39</td>\n",
              "      <td>MURRELL</td>\n",
              "      <td>2</td>\n",
              "      <td>Woodridge</td>\n",
              "      <td>GRADUATE LORD</td>\n",
              "      <td>7</td>\n",
              "      <td>2.99</td>\n",
              "      <td>14.99</td>\n",
              "      <td>G</td>\n",
              "    </tr>\n",
              "    <tr>\n",
              "      <th>4</th>\n",
              "      <td>2005-05-24 23:04:41</td>\n",
              "      <td>2005-06-03 01:43:41</td>\n",
              "      <td>PURDY</td>\n",
              "      <td>1</td>\n",
              "      <td>Lethbridge</td>\n",
              "      <td>LOVE SUICIDES</td>\n",
              "      <td>6</td>\n",
              "      <td>0.99</td>\n",
              "      <td>21.99</td>\n",
              "      <td>R</td>\n",
              "    </tr>\n",
              "    <tr>\n",
              "      <th>5</th>\n",
              "      <td>2005-05-24 23:05:21</td>\n",
              "      <td>2005-06-02 04:33:21</td>\n",
              "      <td>HANSEN</td>\n",
              "      <td>2</td>\n",
              "      <td>Woodridge</td>\n",
              "      <td>IDOLS SNATCHERS</td>\n",
              "      <td>5</td>\n",
              "      <td>2.99</td>\n",
              "      <td>29.99</td>\n",
              "      <td>NC-17</td>\n",
              "    </tr>\n",
              "  </tbody>\n",
              "</table>\n",
              "</div>\n",
              "    <div class=\"colab-df-buttons\">\n",
              "\n",
              "  <div class=\"colab-df-container\">\n",
              "    <button class=\"colab-df-convert\" onclick=\"convertToInteractive('df-f8b9de20-e8ba-47a0-bec1-8c8c04515e42')\"\n",
              "            title=\"Convert this dataframe to an interactive table.\"\n",
              "            style=\"display:none;\">\n",
              "\n",
              "  <svg xmlns=\"http://www.w3.org/2000/svg\" height=\"24px\" viewBox=\"0 -960 960 960\">\n",
              "    <path d=\"M120-120v-720h720v720H120Zm60-500h600v-160H180v160Zm220 220h160v-160H400v160Zm0 220h160v-160H400v160ZM180-400h160v-160H180v160Zm440 0h160v-160H620v160ZM180-180h160v-160H180v160Zm440 0h160v-160H620v160Z\"/>\n",
              "  </svg>\n",
              "    </button>\n",
              "\n",
              "  <style>\n",
              "    .colab-df-container {\n",
              "      display:flex;\n",
              "      gap: 12px;\n",
              "    }\n",
              "\n",
              "    .colab-df-convert {\n",
              "      background-color: #E8F0FE;\n",
              "      border: none;\n",
              "      border-radius: 50%;\n",
              "      cursor: pointer;\n",
              "      display: none;\n",
              "      fill: #1967D2;\n",
              "      height: 32px;\n",
              "      padding: 0 0 0 0;\n",
              "      width: 32px;\n",
              "    }\n",
              "\n",
              "    .colab-df-convert:hover {\n",
              "      background-color: #E2EBFA;\n",
              "      box-shadow: 0px 1px 2px rgba(60, 64, 67, 0.3), 0px 1px 3px 1px rgba(60, 64, 67, 0.15);\n",
              "      fill: #174EA6;\n",
              "    }\n",
              "\n",
              "    .colab-df-buttons div {\n",
              "      margin-bottom: 4px;\n",
              "    }\n",
              "\n",
              "    [theme=dark] .colab-df-convert {\n",
              "      background-color: #3B4455;\n",
              "      fill: #D2E3FC;\n",
              "    }\n",
              "\n",
              "    [theme=dark] .colab-df-convert:hover {\n",
              "      background-color: #434B5C;\n",
              "      box-shadow: 0px 1px 3px 1px rgba(0, 0, 0, 0.15);\n",
              "      filter: drop-shadow(0px 1px 2px rgba(0, 0, 0, 0.3));\n",
              "      fill: #FFFFFF;\n",
              "    }\n",
              "  </style>\n",
              "\n",
              "    <script>\n",
              "      const buttonEl =\n",
              "        document.querySelector('#df-f8b9de20-e8ba-47a0-bec1-8c8c04515e42 button.colab-df-convert');\n",
              "      buttonEl.style.display =\n",
              "        google.colab.kernel.accessAllowed ? 'block' : 'none';\n",
              "\n",
              "      async function convertToInteractive(key) {\n",
              "        const element = document.querySelector('#df-f8b9de20-e8ba-47a0-bec1-8c8c04515e42');\n",
              "        const dataTable =\n",
              "          await google.colab.kernel.invokeFunction('convertToInteractive',\n",
              "                                                    [key], {});\n",
              "        if (!dataTable) return;\n",
              "\n",
              "        const docLinkHtml = 'Like what you see? Visit the ' +\n",
              "          '<a target=\"_blank\" href=https://colab.research.google.com/notebooks/data_table.ipynb>data table notebook</a>'\n",
              "          + ' to learn more about interactive tables.';\n",
              "        element.innerHTML = '';\n",
              "        dataTable['output_type'] = 'display_data';\n",
              "        await google.colab.output.renderOutput(dataTable, element);\n",
              "        const docLink = document.createElement('div');\n",
              "        docLink.innerHTML = docLinkHtml;\n",
              "        element.appendChild(docLink);\n",
              "      }\n",
              "    </script>\n",
              "  </div>\n",
              "\n",
              "\n",
              "<div id=\"df-8b4cc04f-130c-4d81-ab3b-65d32754cd58\">\n",
              "  <button class=\"colab-df-quickchart\" onclick=\"quickchart('df-8b4cc04f-130c-4d81-ab3b-65d32754cd58')\"\n",
              "            title=\"Suggest charts\"\n",
              "            style=\"display:none;\">\n",
              "\n",
              "<svg xmlns=\"http://www.w3.org/2000/svg\" height=\"24px\"viewBox=\"0 0 24 24\"\n",
              "     width=\"24px\">\n",
              "    <g>\n",
              "        <path d=\"M19 3H5c-1.1 0-2 .9-2 2v14c0 1.1.9 2 2 2h14c1.1 0 2-.9 2-2V5c0-1.1-.9-2-2-2zM9 17H7v-7h2v7zm4 0h-2V7h2v10zm4 0h-2v-4h2v4z\"/>\n",
              "    </g>\n",
              "</svg>\n",
              "  </button>\n",
              "\n",
              "<style>\n",
              "  .colab-df-quickchart {\n",
              "      --bg-color: #E8F0FE;\n",
              "      --fill-color: #1967D2;\n",
              "      --hover-bg-color: #E2EBFA;\n",
              "      --hover-fill-color: #174EA6;\n",
              "      --disabled-fill-color: #AAA;\n",
              "      --disabled-bg-color: #DDD;\n",
              "  }\n",
              "\n",
              "  [theme=dark] .colab-df-quickchart {\n",
              "      --bg-color: #3B4455;\n",
              "      --fill-color: #D2E3FC;\n",
              "      --hover-bg-color: #434B5C;\n",
              "      --hover-fill-color: #FFFFFF;\n",
              "      --disabled-bg-color: #3B4455;\n",
              "      --disabled-fill-color: #666;\n",
              "  }\n",
              "\n",
              "  .colab-df-quickchart {\n",
              "    background-color: var(--bg-color);\n",
              "    border: none;\n",
              "    border-radius: 50%;\n",
              "    cursor: pointer;\n",
              "    display: none;\n",
              "    fill: var(--fill-color);\n",
              "    height: 32px;\n",
              "    padding: 0;\n",
              "    width: 32px;\n",
              "  }\n",
              "\n",
              "  .colab-df-quickchart:hover {\n",
              "    background-color: var(--hover-bg-color);\n",
              "    box-shadow: 0 1px 2px rgba(60, 64, 67, 0.3), 0 1px 3px 1px rgba(60, 64, 67, 0.15);\n",
              "    fill: var(--button-hover-fill-color);\n",
              "  }\n",
              "\n",
              "  .colab-df-quickchart-complete:disabled,\n",
              "  .colab-df-quickchart-complete:disabled:hover {\n",
              "    background-color: var(--disabled-bg-color);\n",
              "    fill: var(--disabled-fill-color);\n",
              "    box-shadow: none;\n",
              "  }\n",
              "\n",
              "  .colab-df-spinner {\n",
              "    border: 2px solid var(--fill-color);\n",
              "    border-color: transparent;\n",
              "    border-bottom-color: var(--fill-color);\n",
              "    animation:\n",
              "      spin 1s steps(1) infinite;\n",
              "  }\n",
              "\n",
              "  @keyframes spin {\n",
              "    0% {\n",
              "      border-color: transparent;\n",
              "      border-bottom-color: var(--fill-color);\n",
              "      border-left-color: var(--fill-color);\n",
              "    }\n",
              "    20% {\n",
              "      border-color: transparent;\n",
              "      border-left-color: var(--fill-color);\n",
              "      border-top-color: var(--fill-color);\n",
              "    }\n",
              "    30% {\n",
              "      border-color: transparent;\n",
              "      border-left-color: var(--fill-color);\n",
              "      border-top-color: var(--fill-color);\n",
              "      border-right-color: var(--fill-color);\n",
              "    }\n",
              "    40% {\n",
              "      border-color: transparent;\n",
              "      border-right-color: var(--fill-color);\n",
              "      border-top-color: var(--fill-color);\n",
              "    }\n",
              "    60% {\n",
              "      border-color: transparent;\n",
              "      border-right-color: var(--fill-color);\n",
              "    }\n",
              "    80% {\n",
              "      border-color: transparent;\n",
              "      border-right-color: var(--fill-color);\n",
              "      border-bottom-color: var(--fill-color);\n",
              "    }\n",
              "    90% {\n",
              "      border-color: transparent;\n",
              "      border-bottom-color: var(--fill-color);\n",
              "    }\n",
              "  }\n",
              "</style>\n",
              "\n",
              "  <script>\n",
              "    async function quickchart(key) {\n",
              "      const quickchartButtonEl =\n",
              "        document.querySelector('#' + key + ' button');\n",
              "      quickchartButtonEl.disabled = true;  // To prevent multiple clicks.\n",
              "      quickchartButtonEl.classList.add('colab-df-spinner');\n",
              "      try {\n",
              "        const charts = await google.colab.kernel.invokeFunction(\n",
              "            'suggestCharts', [key], {});\n",
              "      } catch (error) {\n",
              "        console.error('Error during call to suggestCharts:', error);\n",
              "      }\n",
              "      quickchartButtonEl.classList.remove('colab-df-spinner');\n",
              "      quickchartButtonEl.classList.add('colab-df-quickchart-complete');\n",
              "    }\n",
              "    (() => {\n",
              "      let quickchartButtonEl =\n",
              "        document.querySelector('#df-8b4cc04f-130c-4d81-ab3b-65d32754cd58 button');\n",
              "      quickchartButtonEl.style.display =\n",
              "        google.colab.kernel.accessAllowed ? 'block' : 'none';\n",
              "    })();\n",
              "  </script>\n",
              "</div>\n",
              "\n",
              "    </div>\n",
              "  </div>\n"
            ],
            "application/vnd.google.colaboratory.intrinsic+json": {
              "type": "dataframe",
              "variable_name": "df",
              "summary": "{\n  \"name\": \"df\",\n  \"rows\": 16044,\n  \"fields\": [\n    {\n      \"column\": \"rental_id\",\n      \"properties\": {\n        \"dtype\": \"number\",\n        \"std\": 4632,\n        \"min\": 1,\n        \"max\": 16049,\n        \"num_unique_values\": 16044,\n        \"samples\": [\n          8252,\n          4048,\n          4150\n        ],\n        \"semantic_type\": \"\",\n        \"description\": \"\"\n      }\n    },\n    {\n      \"column\": \"rental_date\",\n      \"properties\": {\n        \"dtype\": \"date\",\n        \"min\": \"2005-05-24 22:53:30\",\n        \"max\": \"2006-02-14 15:16:03\",\n        \"num_unique_values\": 15815,\n        \"samples\": [\n          \"2005-07-30 08:02:00\",\n          \"2005-05-26 03:11:12\",\n          \"2005-06-17 18:06:14\"\n        ],\n        \"semantic_type\": \"\",\n        \"description\": \"\"\n      }\n    },\n    {\n      \"column\": \"return_date\",\n      \"properties\": {\n        \"dtype\": \"date\",\n        \"min\": \"2005-05-25 23:55:21\",\n        \"max\": \"2005-09-02 02:35:22\",\n        \"num_unique_values\": 15836,\n        \"samples\": [\n          \"2005-08-25 01:22:36\",\n          \"2005-06-02 03:53:12\",\n          \"2005-06-19 16:26:30\"\n        ],\n        \"semantic_type\": \"\",\n        \"description\": \"\"\n      }\n    },\n    {\n      \"column\": \"customer_lastname\",\n      \"properties\": {\n        \"dtype\": \"category\",\n        \"num_unique_values\": 599,\n        \"samples\": [\n          \"SCHWARZ\",\n          \"GRAVES\",\n          \"SUTTON\"\n        ],\n        \"semantic_type\": \"\",\n        \"description\": \"\"\n      }\n    },\n    {\n      \"column\": \"store_id\",\n      \"properties\": {\n        \"dtype\": \"number\",\n        \"std\": 0,\n        \"min\": 1,\n        \"max\": 2,\n        \"num_unique_values\": 2,\n        \"samples\": [\n          2,\n          1\n        ],\n        \"semantic_type\": \"\",\n        \"description\": \"\"\n      }\n    },\n    {\n      \"column\": \"rental_store_city\",\n      \"properties\": {\n        \"dtype\": \"category\",\n        \"num_unique_values\": 2,\n        \"samples\": [\n          \"Woodridge\",\n          \"Lethbridge\"\n        ],\n        \"semantic_type\": \"\",\n        \"description\": \"\"\n      }\n    },\n    {\n      \"column\": \"film_title\",\n      \"properties\": {\n        \"dtype\": \"category\",\n        \"num_unique_values\": 958,\n        \"samples\": [\n          \"PIANIST OUTFIELD\",\n          \"JET NEIGHBORS\"\n        ],\n        \"semantic_type\": \"\",\n        \"description\": \"\"\n      }\n    },\n    {\n      \"column\": \"film_rental_duration\",\n      \"properties\": {\n        \"dtype\": \"number\",\n        \"std\": 1,\n        \"min\": 3,\n        \"max\": 7,\n        \"num_unique_values\": 5,\n        \"samples\": [\n          6,\n          3\n        ],\n        \"semantic_type\": \"\",\n        \"description\": \"\"\n      }\n    },\n    {\n      \"column\": \"film_rental_rate\",\n      \"properties\": {\n        \"dtype\": \"number\",\n        \"std\": 1.649677567954178,\n        \"min\": 0.99,\n        \"max\": 4.99,\n        \"num_unique_values\": 3,\n        \"samples\": [\n          2.99,\n          0.99\n        ],\n        \"semantic_type\": \"\",\n        \"description\": \"\"\n      }\n    },\n    {\n      \"column\": \"film_replacement_cost\",\n      \"properties\": {\n        \"dtype\": \"number\",\n        \"std\": 6.081771394894571,\n        \"min\": 9.99,\n        \"max\": 29.99,\n        \"num_unique_values\": 21,\n        \"samples\": [\n          21.99,\n          22.99\n        ],\n        \"semantic_type\": \"\",\n        \"description\": \"\"\n      }\n    },\n    {\n      \"column\": \"film_rating\",\n      \"properties\": {\n        \"dtype\": \"category\",\n        \"num_unique_values\": 5,\n        \"samples\": [\n          \"R\",\n          \"PG\"\n        ],\n        \"semantic_type\": \"\",\n        \"description\": \"\"\n      }\n    }\n  ]\n}"
            }
          },
          "metadata": {},
          "execution_count": 5
        }
      ],
      "source": [
        "df.head()"
      ]
    },
    {
      "cell_type": "code",
      "execution_count": 6,
      "metadata": {
        "id": "7jMHZ3x7xukp",
        "outputId": "033c2883-8de0-43ef-a31e-243075e269b1",
        "colab": {
          "base_uri": "https://localhost:8080/"
        }
      },
      "outputs": [
        {
          "output_type": "execute_result",
          "data": {
            "text/plain": [
              "(16044, 10)"
            ]
          },
          "metadata": {},
          "execution_count": 6
        }
      ],
      "source": [
        "df.shape"
      ]
    },
    {
      "cell_type": "code",
      "execution_count": 7,
      "metadata": {
        "id": "4oLmCRTfxukp",
        "outputId": "c1a3a695-823d-48f6-bd64-298286c9768b",
        "colab": {
          "base_uri": "https://localhost:8080/"
        }
      },
      "outputs": [
        {
          "output_type": "stream",
          "name": "stdout",
          "text": [
            "<class 'pandas.core.frame.DataFrame'>\n",
            "Index: 16044 entries, 1 to 16049\n",
            "Data columns (total 10 columns):\n",
            " #   Column                 Non-Null Count  Dtype         \n",
            "---  ------                 --------------  -----         \n",
            " 0   rental_date            16044 non-null  datetime64[ns]\n",
            " 1   return_date            15861 non-null  datetime64[ns]\n",
            " 2   customer_lastname      16044 non-null  object        \n",
            " 3   store_id               16044 non-null  int64         \n",
            " 4   rental_store_city      16044 non-null  object        \n",
            " 5   film_title             16044 non-null  object        \n",
            " 6   film_rental_duration   16044 non-null  int64         \n",
            " 7   film_rental_rate       16044 non-null  float64       \n",
            " 8   film_replacement_cost  16044 non-null  float64       \n",
            " 9   film_rating            16044 non-null  object        \n",
            "dtypes: datetime64[ns](2), float64(2), int64(2), object(4)\n",
            "memory usage: 1.3+ MB\n"
          ]
        }
      ],
      "source": [
        "df.info()"
      ]
    },
    {
      "cell_type": "code",
      "execution_count": 8,
      "metadata": {
        "id": "yE9CuIU5xukq",
        "outputId": "66a7499b-9919-4264-fa80-185d1f2ad2ba",
        "colab": {
          "base_uri": "https://localhost:8080/",
          "height": 300
        }
      },
      "outputs": [
        {
          "output_type": "execute_result",
          "data": {
            "text/plain": [
              "                         rental_date                    return_date  \\\n",
              "count                          16044                          15861   \n",
              "mean   2005-07-23 08:12:53.217526912  2005-07-25 23:58:03.138768128   \n",
              "min              2005-05-24 22:53:30            2005-05-25 23:55:21   \n",
              "25%       2005-07-07 00:58:40.500000            2005-07-10 15:49:36   \n",
              "50%       2005-07-28 16:04:32.500000            2005-08-01 19:45:29   \n",
              "75%              2005-08-17 21:16:23            2005-08-20 23:35:55   \n",
              "max              2006-02-14 15:16:03            2005-09-02 02:35:22   \n",
              "std                              NaN                            NaN   \n",
              "\n",
              "           store_id  film_rental_duration  film_rental_rate  \\\n",
              "count  16044.000000           16044.00000      16044.000000   \n",
              "mean       1.506171               4.93549          2.942630   \n",
              "min        1.000000               3.00000          0.990000   \n",
              "25%        1.000000               4.00000          0.990000   \n",
              "50%        2.000000               5.00000          2.990000   \n",
              "75%        2.000000               6.00000          4.990000   \n",
              "max        2.000000               7.00000          4.990000   \n",
              "std        0.499978               1.40169          1.649678   \n",
              "\n",
              "       film_replacement_cost  \n",
              "count           16044.000000  \n",
              "mean               20.215443  \n",
              "min                 9.990000  \n",
              "25%                14.990000  \n",
              "50%                20.990000  \n",
              "75%                25.990000  \n",
              "max                29.990000  \n",
              "std                 6.081771  "
            ],
            "text/html": [
              "\n",
              "  <div id=\"df-b085f700-d465-4f46-8c79-f58128eb67ea\" class=\"colab-df-container\">\n",
              "    <div>\n",
              "<style scoped>\n",
              "    .dataframe tbody tr th:only-of-type {\n",
              "        vertical-align: middle;\n",
              "    }\n",
              "\n",
              "    .dataframe tbody tr th {\n",
              "        vertical-align: top;\n",
              "    }\n",
              "\n",
              "    .dataframe thead th {\n",
              "        text-align: right;\n",
              "    }\n",
              "</style>\n",
              "<table border=\"1\" class=\"dataframe\">\n",
              "  <thead>\n",
              "    <tr style=\"text-align: right;\">\n",
              "      <th></th>\n",
              "      <th>rental_date</th>\n",
              "      <th>return_date</th>\n",
              "      <th>store_id</th>\n",
              "      <th>film_rental_duration</th>\n",
              "      <th>film_rental_rate</th>\n",
              "      <th>film_replacement_cost</th>\n",
              "    </tr>\n",
              "  </thead>\n",
              "  <tbody>\n",
              "    <tr>\n",
              "      <th>count</th>\n",
              "      <td>16044</td>\n",
              "      <td>15861</td>\n",
              "      <td>16044.000000</td>\n",
              "      <td>16044.00000</td>\n",
              "      <td>16044.000000</td>\n",
              "      <td>16044.000000</td>\n",
              "    </tr>\n",
              "    <tr>\n",
              "      <th>mean</th>\n",
              "      <td>2005-07-23 08:12:53.217526912</td>\n",
              "      <td>2005-07-25 23:58:03.138768128</td>\n",
              "      <td>1.506171</td>\n",
              "      <td>4.93549</td>\n",
              "      <td>2.942630</td>\n",
              "      <td>20.215443</td>\n",
              "    </tr>\n",
              "    <tr>\n",
              "      <th>min</th>\n",
              "      <td>2005-05-24 22:53:30</td>\n",
              "      <td>2005-05-25 23:55:21</td>\n",
              "      <td>1.000000</td>\n",
              "      <td>3.00000</td>\n",
              "      <td>0.990000</td>\n",
              "      <td>9.990000</td>\n",
              "    </tr>\n",
              "    <tr>\n",
              "      <th>25%</th>\n",
              "      <td>2005-07-07 00:58:40.500000</td>\n",
              "      <td>2005-07-10 15:49:36</td>\n",
              "      <td>1.000000</td>\n",
              "      <td>4.00000</td>\n",
              "      <td>0.990000</td>\n",
              "      <td>14.990000</td>\n",
              "    </tr>\n",
              "    <tr>\n",
              "      <th>50%</th>\n",
              "      <td>2005-07-28 16:04:32.500000</td>\n",
              "      <td>2005-08-01 19:45:29</td>\n",
              "      <td>2.000000</td>\n",
              "      <td>5.00000</td>\n",
              "      <td>2.990000</td>\n",
              "      <td>20.990000</td>\n",
              "    </tr>\n",
              "    <tr>\n",
              "      <th>75%</th>\n",
              "      <td>2005-08-17 21:16:23</td>\n",
              "      <td>2005-08-20 23:35:55</td>\n",
              "      <td>2.000000</td>\n",
              "      <td>6.00000</td>\n",
              "      <td>4.990000</td>\n",
              "      <td>25.990000</td>\n",
              "    </tr>\n",
              "    <tr>\n",
              "      <th>max</th>\n",
              "      <td>2006-02-14 15:16:03</td>\n",
              "      <td>2005-09-02 02:35:22</td>\n",
              "      <td>2.000000</td>\n",
              "      <td>7.00000</td>\n",
              "      <td>4.990000</td>\n",
              "      <td>29.990000</td>\n",
              "    </tr>\n",
              "    <tr>\n",
              "      <th>std</th>\n",
              "      <td>NaN</td>\n",
              "      <td>NaN</td>\n",
              "      <td>0.499978</td>\n",
              "      <td>1.40169</td>\n",
              "      <td>1.649678</td>\n",
              "      <td>6.081771</td>\n",
              "    </tr>\n",
              "  </tbody>\n",
              "</table>\n",
              "</div>\n",
              "    <div class=\"colab-df-buttons\">\n",
              "\n",
              "  <div class=\"colab-df-container\">\n",
              "    <button class=\"colab-df-convert\" onclick=\"convertToInteractive('df-b085f700-d465-4f46-8c79-f58128eb67ea')\"\n",
              "            title=\"Convert this dataframe to an interactive table.\"\n",
              "            style=\"display:none;\">\n",
              "\n",
              "  <svg xmlns=\"http://www.w3.org/2000/svg\" height=\"24px\" viewBox=\"0 -960 960 960\">\n",
              "    <path d=\"M120-120v-720h720v720H120Zm60-500h600v-160H180v160Zm220 220h160v-160H400v160Zm0 220h160v-160H400v160ZM180-400h160v-160H180v160Zm440 0h160v-160H620v160ZM180-180h160v-160H180v160Zm440 0h160v-160H620v160Z\"/>\n",
              "  </svg>\n",
              "    </button>\n",
              "\n",
              "  <style>\n",
              "    .colab-df-container {\n",
              "      display:flex;\n",
              "      gap: 12px;\n",
              "    }\n",
              "\n",
              "    .colab-df-convert {\n",
              "      background-color: #E8F0FE;\n",
              "      border: none;\n",
              "      border-radius: 50%;\n",
              "      cursor: pointer;\n",
              "      display: none;\n",
              "      fill: #1967D2;\n",
              "      height: 32px;\n",
              "      padding: 0 0 0 0;\n",
              "      width: 32px;\n",
              "    }\n",
              "\n",
              "    .colab-df-convert:hover {\n",
              "      background-color: #E2EBFA;\n",
              "      box-shadow: 0px 1px 2px rgba(60, 64, 67, 0.3), 0px 1px 3px 1px rgba(60, 64, 67, 0.15);\n",
              "      fill: #174EA6;\n",
              "    }\n",
              "\n",
              "    .colab-df-buttons div {\n",
              "      margin-bottom: 4px;\n",
              "    }\n",
              "\n",
              "    [theme=dark] .colab-df-convert {\n",
              "      background-color: #3B4455;\n",
              "      fill: #D2E3FC;\n",
              "    }\n",
              "\n",
              "    [theme=dark] .colab-df-convert:hover {\n",
              "      background-color: #434B5C;\n",
              "      box-shadow: 0px 1px 3px 1px rgba(0, 0, 0, 0.15);\n",
              "      filter: drop-shadow(0px 1px 2px rgba(0, 0, 0, 0.3));\n",
              "      fill: #FFFFFF;\n",
              "    }\n",
              "  </style>\n",
              "\n",
              "    <script>\n",
              "      const buttonEl =\n",
              "        document.querySelector('#df-b085f700-d465-4f46-8c79-f58128eb67ea button.colab-df-convert');\n",
              "      buttonEl.style.display =\n",
              "        google.colab.kernel.accessAllowed ? 'block' : 'none';\n",
              "\n",
              "      async function convertToInteractive(key) {\n",
              "        const element = document.querySelector('#df-b085f700-d465-4f46-8c79-f58128eb67ea');\n",
              "        const dataTable =\n",
              "          await google.colab.kernel.invokeFunction('convertToInteractive',\n",
              "                                                    [key], {});\n",
              "        if (!dataTable) return;\n",
              "\n",
              "        const docLinkHtml = 'Like what you see? Visit the ' +\n",
              "          '<a target=\"_blank\" href=https://colab.research.google.com/notebooks/data_table.ipynb>data table notebook</a>'\n",
              "          + ' to learn more about interactive tables.';\n",
              "        element.innerHTML = '';\n",
              "        dataTable['output_type'] = 'display_data';\n",
              "        await google.colab.output.renderOutput(dataTable, element);\n",
              "        const docLink = document.createElement('div');\n",
              "        docLink.innerHTML = docLinkHtml;\n",
              "        element.appendChild(docLink);\n",
              "      }\n",
              "    </script>\n",
              "  </div>\n",
              "\n",
              "\n",
              "<div id=\"df-ecba71df-aef0-4428-bbdc-a3882cf95294\">\n",
              "  <button class=\"colab-df-quickchart\" onclick=\"quickchart('df-ecba71df-aef0-4428-bbdc-a3882cf95294')\"\n",
              "            title=\"Suggest charts\"\n",
              "            style=\"display:none;\">\n",
              "\n",
              "<svg xmlns=\"http://www.w3.org/2000/svg\" height=\"24px\"viewBox=\"0 0 24 24\"\n",
              "     width=\"24px\">\n",
              "    <g>\n",
              "        <path d=\"M19 3H5c-1.1 0-2 .9-2 2v14c0 1.1.9 2 2 2h14c1.1 0 2-.9 2-2V5c0-1.1-.9-2-2-2zM9 17H7v-7h2v7zm4 0h-2V7h2v10zm4 0h-2v-4h2v4z\"/>\n",
              "    </g>\n",
              "</svg>\n",
              "  </button>\n",
              "\n",
              "<style>\n",
              "  .colab-df-quickchart {\n",
              "      --bg-color: #E8F0FE;\n",
              "      --fill-color: #1967D2;\n",
              "      --hover-bg-color: #E2EBFA;\n",
              "      --hover-fill-color: #174EA6;\n",
              "      --disabled-fill-color: #AAA;\n",
              "      --disabled-bg-color: #DDD;\n",
              "  }\n",
              "\n",
              "  [theme=dark] .colab-df-quickchart {\n",
              "      --bg-color: #3B4455;\n",
              "      --fill-color: #D2E3FC;\n",
              "      --hover-bg-color: #434B5C;\n",
              "      --hover-fill-color: #FFFFFF;\n",
              "      --disabled-bg-color: #3B4455;\n",
              "      --disabled-fill-color: #666;\n",
              "  }\n",
              "\n",
              "  .colab-df-quickchart {\n",
              "    background-color: var(--bg-color);\n",
              "    border: none;\n",
              "    border-radius: 50%;\n",
              "    cursor: pointer;\n",
              "    display: none;\n",
              "    fill: var(--fill-color);\n",
              "    height: 32px;\n",
              "    padding: 0;\n",
              "    width: 32px;\n",
              "  }\n",
              "\n",
              "  .colab-df-quickchart:hover {\n",
              "    background-color: var(--hover-bg-color);\n",
              "    box-shadow: 0 1px 2px rgba(60, 64, 67, 0.3), 0 1px 3px 1px rgba(60, 64, 67, 0.15);\n",
              "    fill: var(--button-hover-fill-color);\n",
              "  }\n",
              "\n",
              "  .colab-df-quickchart-complete:disabled,\n",
              "  .colab-df-quickchart-complete:disabled:hover {\n",
              "    background-color: var(--disabled-bg-color);\n",
              "    fill: var(--disabled-fill-color);\n",
              "    box-shadow: none;\n",
              "  }\n",
              "\n",
              "  .colab-df-spinner {\n",
              "    border: 2px solid var(--fill-color);\n",
              "    border-color: transparent;\n",
              "    border-bottom-color: var(--fill-color);\n",
              "    animation:\n",
              "      spin 1s steps(1) infinite;\n",
              "  }\n",
              "\n",
              "  @keyframes spin {\n",
              "    0% {\n",
              "      border-color: transparent;\n",
              "      border-bottom-color: var(--fill-color);\n",
              "      border-left-color: var(--fill-color);\n",
              "    }\n",
              "    20% {\n",
              "      border-color: transparent;\n",
              "      border-left-color: var(--fill-color);\n",
              "      border-top-color: var(--fill-color);\n",
              "    }\n",
              "    30% {\n",
              "      border-color: transparent;\n",
              "      border-left-color: var(--fill-color);\n",
              "      border-top-color: var(--fill-color);\n",
              "      border-right-color: var(--fill-color);\n",
              "    }\n",
              "    40% {\n",
              "      border-color: transparent;\n",
              "      border-right-color: var(--fill-color);\n",
              "      border-top-color: var(--fill-color);\n",
              "    }\n",
              "    60% {\n",
              "      border-color: transparent;\n",
              "      border-right-color: var(--fill-color);\n",
              "    }\n",
              "    80% {\n",
              "      border-color: transparent;\n",
              "      border-right-color: var(--fill-color);\n",
              "      border-bottom-color: var(--fill-color);\n",
              "    }\n",
              "    90% {\n",
              "      border-color: transparent;\n",
              "      border-bottom-color: var(--fill-color);\n",
              "    }\n",
              "  }\n",
              "</style>\n",
              "\n",
              "  <script>\n",
              "    async function quickchart(key) {\n",
              "      const quickchartButtonEl =\n",
              "        document.querySelector('#' + key + ' button');\n",
              "      quickchartButtonEl.disabled = true;  // To prevent multiple clicks.\n",
              "      quickchartButtonEl.classList.add('colab-df-spinner');\n",
              "      try {\n",
              "        const charts = await google.colab.kernel.invokeFunction(\n",
              "            'suggestCharts', [key], {});\n",
              "      } catch (error) {\n",
              "        console.error('Error during call to suggestCharts:', error);\n",
              "      }\n",
              "      quickchartButtonEl.classList.remove('colab-df-spinner');\n",
              "      quickchartButtonEl.classList.add('colab-df-quickchart-complete');\n",
              "    }\n",
              "    (() => {\n",
              "      let quickchartButtonEl =\n",
              "        document.querySelector('#df-ecba71df-aef0-4428-bbdc-a3882cf95294 button');\n",
              "      quickchartButtonEl.style.display =\n",
              "        google.colab.kernel.accessAllowed ? 'block' : 'none';\n",
              "    })();\n",
              "  </script>\n",
              "</div>\n",
              "\n",
              "    </div>\n",
              "  </div>\n"
            ],
            "application/vnd.google.colaboratory.intrinsic+json": {
              "type": "dataframe",
              "summary": "{\n  \"name\": \"df\",\n  \"rows\": 8,\n  \"fields\": [\n    {\n      \"column\": \"rental_date\",\n      \"properties\": {\n        \"dtype\": \"date\",\n        \"min\": \"1970-01-01 00:00:00.000016044\",\n        \"max\": \"2006-02-14 15:16:03\",\n        \"num_unique_values\": 7,\n        \"samples\": [\n          \"16044\",\n          \"2005-07-23 08:12:53.217526912\",\n          \"2005-08-17 21:16:23\"\n        ],\n        \"semantic_type\": \"\",\n        \"description\": \"\"\n      }\n    },\n    {\n      \"column\": \"return_date\",\n      \"properties\": {\n        \"dtype\": \"date\",\n        \"min\": \"1970-01-01 00:00:00.000015861\",\n        \"max\": \"2005-09-02 02:35:22\",\n        \"num_unique_values\": 7,\n        \"samples\": [\n          \"15861\",\n          \"2005-07-25 23:58:03.138768128\",\n          \"2005-08-20 23:35:55\"\n        ],\n        \"semantic_type\": \"\",\n        \"description\": \"\"\n      }\n    },\n    {\n      \"column\": \"store_id\",\n      \"properties\": {\n        \"dtype\": \"number\",\n        \"std\": 5671.905239780931,\n        \"min\": 0.4999775047876809,\n        \"max\": 16044.0,\n        \"num_unique_values\": 5,\n        \"samples\": [\n          1.506170531039641,\n          0.4999775047876809,\n          1.0\n        ],\n        \"semantic_type\": \"\",\n        \"description\": \"\"\n      }\n    },\n    {\n      \"column\": \"film_rental_duration\",\n      \"properties\": {\n        \"dtype\": \"number\",\n        \"std\": 5670.828097045384,\n        \"min\": 1.401689794394091,\n        \"max\": 16044.0,\n        \"num_unique_values\": 8,\n        \"samples\": [\n          4.935489902767389,\n          6.0,\n          16044.0\n        ],\n        \"semantic_type\": \"\",\n        \"description\": \"\"\n      }\n    },\n    {\n      \"column\": \"film_rental_rate\",\n      \"properties\": {\n        \"dtype\": \"number\",\n        \"std\": 5671.423783779765,\n        \"min\": 0.99,\n        \"max\": 16044.0,\n        \"num_unique_values\": 6,\n        \"samples\": [\n          16044.0,\n          2.9426302667663933,\n          1.649677567954178\n        ],\n        \"semantic_type\": \"\",\n        \"description\": \"\"\n      }\n    },\n    {\n      \"column\": \"film_replacement_cost\",\n      \"properties\": {\n        \"dtype\": \"number\",\n        \"std\": 5665.9386326036065,\n        \"min\": 6.081771394894571,\n        \"max\": 16044.0,\n        \"num_unique_values\": 8,\n        \"samples\": [\n          20.21544253303416,\n          25.99,\n          16044.0\n        ],\n        \"semantic_type\": \"\",\n        \"description\": \"\"\n      }\n    }\n  ]\n}"
            }
          },
          "metadata": {},
          "execution_count": 8
        }
      ],
      "source": [
        "df.describe()"
      ]
    },
    {
      "cell_type": "code",
      "source": [
        "rates = df['film_rental_rate'].value_counts()\n",
        "rates"
      ],
      "metadata": {
        "id": "t2bpzMhF0gIy",
        "outputId": "76903f68-f77e-42a0-a9ef-c9b2a58be90b",
        "colab": {
          "base_uri": "https://localhost:8080/"
        }
      },
      "execution_count": 17,
      "outputs": [
        {
          "output_type": "execute_result",
          "data": {
            "text/plain": [
              "film_rental_rate\n",
              "0.99    5652\n",
              "4.99    5272\n",
              "2.99    5120\n",
              "Name: count, dtype: int64"
            ]
          },
          "metadata": {},
          "execution_count": 17
        }
      ]
    },
    {
      "cell_type": "code",
      "source": [
        "fig = plt.figure(figsize=(10,10), dpi = 100)\n",
        "ax = plt.subplot(111)\n",
        "rates.plot(kind = 'pie',ax = ax, autopct='%.1f%%',startangle=270, fontsize=16)\n",
        "ax.set_ylabel('')\n",
        "plt.show()"
      ],
      "metadata": {
        "id": "WTGabNyB00NB",
        "outputId": "86fa3555-2433-4de0-84f1-ec929e796e0a",
        "colab": {
          "base_uri": "https://localhost:8080/",
          "height": 807
        }
      },
      "execution_count": 28,
      "outputs": [
        {
          "output_type": "display_data",
          "data": {
            "text/plain": [
              "<Figure size 1000x1000 with 1 Axes>"
            ],
            "image/png": "[encoded data removed]"
          },
          "metadata": {}
        }
      ]
    },
    {
      "cell_type": "markdown",
      "metadata": {
        "id": "GgKAaocPxukq"
      },
      "source": [
        "![green-divider](https://user-images.githubusercontent.com/7065401/52071924-c003ad80-2562-11e9-8297-1c6595f8a7ff.png)\n",
        "\n",
        "## Numerical analysis and visualization\n",
        "\n",
        "We'll analyze the `film_rental_rate` column:"
      ]
    },
    {
      "cell_type": "code",
      "execution_count": 9,
      "metadata": {
        "id": "ZyNrddsixukq",
        "outputId": "24d9bc3e-da42-44ff-81e2-1932a90b6856",
        "colab": {
          "base_uri": "https://localhost:8080/"
        }
      },
      "outputs": [
        {
          "output_type": "execute_result",
          "data": {
            "text/plain": [
              "count    16044.000000\n",
              "mean         2.942630\n",
              "std          1.649678\n",
              "min          0.990000\n",
              "25%          0.990000\n",
              "50%          2.990000\n",
              "75%          4.990000\n",
              "max          4.990000\n",
              "Name: film_rental_rate, dtype: float64"
            ]
          },
          "metadata": {},
          "execution_count": 9
        }
      ],
      "source": [
        "df['film_rental_rate'].describe()"
      ]
    },
    {
      "cell_type": "code",
      "execution_count": 10,
      "metadata": {
        "id": "m3n7YtU9xukq",
        "outputId": "f981bf16-d67f-4ff5-d685-7d4bd1209e23",
        "colab": {
          "base_uri": "https://localhost:8080/"
        }
      },
      "outputs": [
        {
          "output_type": "execute_result",
          "data": {
            "text/plain": [
              "2.9426302667663933"
            ]
          },
          "metadata": {},
          "execution_count": 10
        }
      ],
      "source": [
        "df['film_rental_rate'].mean()"
      ]
    },
    {
      "cell_type": "code",
      "execution_count": 11,
      "metadata": {
        "id": "lv4rSfpzxukq",
        "outputId": "92ac5d91-707b-4c4f-aa52-625203ade54a",
        "colab": {
          "base_uri": "https://localhost:8080/"
        }
      },
      "outputs": [
        {
          "output_type": "execute_result",
          "data": {
            "text/plain": [
              "2.99"
            ]
          },
          "metadata": {},
          "execution_count": 11
        }
      ],
      "source": [
        "df['film_rental_rate'].median()"
      ]
    },
    {
      "cell_type": "code",
      "execution_count": 43,
      "metadata": {
        "id": "AfBCk7z1xukr",
        "outputId": "7e2239ad-9356-4ab7-ddc9-3d1c3005ee7e",
        "colab": {
          "base_uri": "https://localhost:8080/",
          "height": 231
        }
      },
      "outputs": [
        {
          "output_type": "execute_result",
          "data": {
            "text/plain": [
              "<Axes: >"
            ]
          },
          "metadata": {},
          "execution_count": 43
        },
        {
          "output_type": "display_data",
          "data": {
            "text/plain": [
              "<Figure size 1400x200 with 1 Axes>"
            ],
            "image/png": "[encoded data removed]"
          },
          "metadata": {}
        }
      ],
      "source": [
        "df['film_rental_rate'].plot(kind='box', vert=False, figsize=(14,2))"
      ]
    },
    {
      "cell_type": "code",
      "source": [
        "plt.figure(figsize=(14, 2))\n",
        "sns.boxplot(x=df['film_rental_rate'], orient='h')\n"
      ],
      "metadata": {
        "id": "zekZL5Ww2s_v",
        "outputId": "4afdf85b-45be-49a1-e24c-36fb07f5633b",
        "colab": {
          "base_uri": "https://localhost:8080/",
          "height": 251
        }
      },
      "execution_count": 42,
      "outputs": [
        {
          "output_type": "execute_result",
          "data": {
            "text/plain": [
              "<Axes: xlabel='film_rental_rate'>"
            ]
          },
          "metadata": {},
          "execution_count": 42
        },
        {
          "output_type": "display_data",
          "data": {
            "text/plain": [
              "<Figure size 1400x200 with 1 Axes>"
            ],
            "image/png": "[encoded data removed]"
          },
          "metadata": {}
        }
      ]
    },
    {
      "cell_type": "code",
      "execution_count": 13,
      "metadata": {
        "id": "8tHTFIiPxukr",
        "outputId": "26135f21-c6df-4621-de79-375e1eed2c04",
        "colab": {
          "base_uri": "https://localhost:8080/",
          "height": 539
        }
      },
      "outputs": [
        {
          "output_type": "execute_result",
          "data": {
            "text/plain": [
              "<Axes: ylabel='Density'>"
            ]
          },
          "metadata": {},
          "execution_count": 13
        },
        {
          "output_type": "display_data",
          "data": {
            "text/plain": [
              "<Figure size 1400x600 with 1 Axes>"
            ],
            "image/png": "[encoded data removed]"
          },
          "metadata": {}
        }
      ],
      "source": [
        "df['film_rental_rate'].plot(kind='density', figsize=(14,6)) # kde"
      ]
    },
    {
      "cell_type": "code",
      "execution_count": 14,
      "metadata": {
        "id": "YpJF-Q6gxukr",
        "outputId": "8f1ecd5c-37d0-4593-ea1e-3cf828f78d10",
        "colab": {
          "base_uri": "https://localhost:8080/",
          "height": 576
        }
      },
      "outputs": [
        {
          "output_type": "execute_result",
          "data": {
            "text/plain": [
              "Text(0, 0.5, 'Number of Rentals')"
            ]
          },
          "metadata": {},
          "execution_count": 14
        },
        {
          "output_type": "display_data",
          "data": {
            "text/plain": [
              "<Figure size 1400x600 with 1 Axes>"
            ],
            "image/png": "[encoded data removed]"
          },
          "metadata": {}
        }
      ],
      "source": [
        "ax = df['film_rental_rate'].value_counts().plot(kind='bar', figsize=(14,6))\n",
        "ax.set_ylabel('Number of Rentals')"
      ]
    },
    {
      "cell_type": "markdown",
      "metadata": {
        "id": "BMDx5hffxukr"
      },
      "source": [
        "![green-divider](https://user-images.githubusercontent.com/7065401/52071924-c003ad80-2562-11e9-8297-1c6595f8a7ff.png)\n",
        "\n",
        "## Categorical analysis and visualization\n",
        "\n",
        "We'll analyze the `rental_store_city` column:"
      ]
    },
    {
      "cell_type": "code",
      "execution_count": 31,
      "metadata": {
        "id": "H9COVJj6xukr",
        "outputId": "764d25cd-0169-45ef-cce5-7792b9f86b0f",
        "colab": {
          "base_uri": "https://localhost:8080/"
        }
      },
      "outputs": [
        {
          "output_type": "execute_result",
          "data": {
            "text/plain": [
              "rental_store_city\n",
              "Woodridge     8121\n",
              "Lethbridge    7923\n",
              "Name: count, dtype: int64"
            ]
          },
          "metadata": {},
          "execution_count": 31
        }
      ],
      "source": [
        "city_counts = df['rental_store_city'].value_counts()\n",
        "city_counts"
      ]
    },
    {
      "cell_type": "code",
      "execution_count": 33,
      "metadata": {
        "id": "vvsUf5d9xukr",
        "outputId": "a33aa8e9-9ad9-4ed2-d296-d865273dd6b2",
        "colab": {
          "base_uri": "https://localhost:8080/",
          "height": 807
        }
      },
      "outputs": [
        {
          "output_type": "display_data",
          "data": {
            "text/plain": [
              "<Figure size 1000x1000 with 1 Axes>"
            ],
            "image/png": "[encoded data removed]"
          },
          "metadata": {}
        }
      ],
      "source": [
        "fig = plt.figure(figsize=(10,10), dpi = 100)\n",
        "ax = plt.subplot(111)\n",
        "city_counts.plot(kind = 'pie',ax = ax, autopct='%.1f%%',startangle=270, fontsize=16)\n",
        "ax.set_ylabel('')\n",
        "plt.show()\n"
      ]
    },
    {
      "cell_type": "code",
      "execution_count": 34,
      "metadata": {
        "id": "u1hJ4Y1fxukr",
        "outputId": "d8784386-628e-4ed0-90a3-0df70aa1e235",
        "colab": {
          "base_uri": "https://localhost:8080/",
          "height": 620
        }
      },
      "outputs": [
        {
          "output_type": "execute_result",
          "data": {
            "text/plain": [
              "Text(0, 0.5, 'Number of Rentals')"
            ]
          },
          "metadata": {},
          "execution_count": 34
        },
        {
          "output_type": "display_data",
          "data": {
            "text/plain": [
              "<Figure size 1400x600 with 1 Axes>"
            ],
            "image/png": "[encoded data removed]"
          },
          "metadata": {}
        }
      ],
      "source": [
        "ax = df['rental_store_city'].value_counts().plot(kind='bar', figsize=(14,6))\n",
        "ax.set_ylabel('Number of Rentals')"
      ]
    },
    {
      "cell_type": "markdown",
      "metadata": {
        "id": "OlAyjp24xuks"
      },
      "source": [
        "![green-divider](https://user-images.githubusercontent.com/7065401/52071924-c003ad80-2562-11e9-8297-1c6595f8a7ff.png)\n",
        "\n",
        "## Column wrangling\n",
        "\n",
        "We can also create new columns or modify existing ones.\n",
        "\n",
        "### Add and calculate a new `rental_rate_return` column\n",
        "\n",
        "We want to know the rental rate of return of each film. To do that we'll use this formula:\n",
        "\n",
        "$$ rental\\_gain\\_return = \\frac{film\\_rental\\_rate}{film\\_replacement\\_cost} * 100 $$"
      ]
    },
    {
      "cell_type": "code",
      "execution_count": 44,
      "metadata": {
        "id": "ynpKULBMxuks",
        "outputId": "db5f35f4-28af-4eda-a816-a467910390a1",
        "colab": {
          "base_uri": "https://localhost:8080/"
        }
      },
      "outputs": [
        {
          "output_type": "execute_result",
          "data": {
            "text/plain": [
              "rental_id\n",
              "1    13.597090\n",
              "2    17.598587\n",
              "3    19.946631\n",
              "4     4.502046\n",
              "5     9.969990\n",
              "Name: rental_gain_return, dtype: float64"
            ]
          },
          "metadata": {},
          "execution_count": 44
        }
      ],
      "source": [
        "df['rental_gain_return'] = df['film_rental_rate'] / df['film_replacement_cost'] * 100\n",
        "\n",
        "df['rental_gain_return'].head()"
      ]
    },
    {
      "cell_type": "code",
      "execution_count": 66,
      "metadata": {
        "id": "U1Ll9xW_xuks",
        "outputId": "4d519968-28f3-45f6-a6fa-2cc2e13adb07",
        "colab": {
          "base_uri": "https://localhost:8080/",
          "height": 570
        }
      },
      "outputs": [
        {
          "output_type": "display_data",
          "data": {
            "text/plain": [
              "<Figure size 1400x600 with 1 Axes>"
            ],
            "image/png": "[encoded data removed]"
          },
          "metadata": {}
        }
      ],
      "source": [
        "fig = plt.figure(figsize=(14,6), dpi = 100)\n",
        "ax = plt.subplot(111)\n",
        "df['rental_gain_return'].plot(kind='kde',ax = ax, fontsize=16, title='Rental Gain Return')\n",
        "ax.set_ylabel('Density')\n",
        "ax.set_xlabel('Rental Gain Return')\n",
        "ax.legend(['D'])\n",
        "plt.show()"
      ]
    },
    {
      "cell_type": "code",
      "execution_count": 59,
      "metadata": {
        "id": "ZvjbFPa1xuks",
        "outputId": "632935da-1bc3-49d9-9cb4-5c5f0bfd5e46",
        "colab": {
          "base_uri": "https://localhost:8080/"
        }
      },
      "outputs": [
        {
          "output_type": "execute_result",
          "data": {
            "text/plain": [
              "16.34"
            ]
          },
          "metadata": {},
          "execution_count": 59
        }
      ],
      "source": [
        "df['rental_gain_return'].mean().round(2)"
      ]
    },
    {
      "cell_type": "code",
      "execution_count": 60,
      "metadata": {
        "id": "8_bMP8rdxuks",
        "outputId": "df109aea-a337-4b88-9a4a-92a5eaa6b018",
        "colab": {
          "base_uri": "https://localhost:8080/"
        }
      },
      "outputs": [
        {
          "output_type": "execute_result",
          "data": {
            "text/plain": [
              "13.6"
            ]
          },
          "metadata": {},
          "execution_count": 60
        }
      ],
      "source": [
        "df['rental_gain_return'].median().round(2)"
      ]
    },
    {
      "cell_type": "code",
      "execution_count": 69,
      "metadata": {
        "id": "9eNWwuEJxuks",
        "outputId": "f4ed259a-50e5-474a-f04b-7d6ac83b6900",
        "colab": {
          "base_uri": "https://localhost:8080/",
          "height": 564
        }
      },
      "outputs": [
        {
          "output_type": "display_data",
          "data": {
            "text/plain": [
              "<Figure size 1400x600 with 1 Axes>"
            ],
            "image/png": "[encoded data removed]"
          },
          "metadata": {}
        }
      ],
      "source": [
        "ax = df['rental_gain_return'].plot(kind='density', figsize=(14,6)) # kde\n",
        "ax.axvline(df['rental_gain_return'].mean(), color='red')\n",
        "ax.axvline(df['rental_gain_return'].median(), color='green')\n",
        "ax.set_ylabel('Density')\n",
        "ax.set_xlabel('Rental Gain Return')\n",
        "ax.legend(['Density','Mean','Median'])\n",
        "ax.title.set_text('Rental Gain Return')\n",
        "plt.show()"
      ]
    },
    {
      "cell_type": "markdown",
      "metadata": {
        "id": "agZJF8WAxuks"
      },
      "source": [
        "> Each rental represents <b>13.6%</b> of film cost."
      ]
    },
    {
      "cell_type": "markdown",
      "metadata": {
        "id": "L2l53cXDxukv"
      },
      "source": [
        "So <b>7.35</b> rentals are needed to recover film market price (`film_replacement_cost`)"
      ]
    },
    {
      "cell_type": "code",
      "execution_count": 70,
      "metadata": {
        "id": "48CqMoTvxukv",
        "outputId": "38a8f4a4-3406-48a6-fce1-f987cdd27480",
        "colab": {
          "base_uri": "https://localhost:8080/"
        }
      },
      "outputs": [
        {
          "output_type": "execute_result",
          "data": {
            "text/plain": [
              "7.352941176470589"
            ]
          },
          "metadata": {},
          "execution_count": 70
        }
      ],
      "source": [
        "100 / 13.6"
      ]
    },
    {
      "cell_type": "markdown",
      "metadata": {
        "id": "Z-MUDRuwxukv"
      },
      "source": [
        "While in average each film is rented <b>16.74</b> times."
      ]
    },
    {
      "cell_type": "code",
      "execution_count": 71,
      "metadata": {
        "id": "SIEVj0i4xukv",
        "outputId": "94c71e86-4b0c-48aa-8de7-fc0fad74a764",
        "colab": {
          "base_uri": "https://localhost:8080/"
        }
      },
      "outputs": [
        {
          "output_type": "execute_result",
          "data": {
            "text/plain": [
              "16.747390396659707"
            ]
          },
          "metadata": {},
          "execution_count": 71
        }
      ],
      "source": [
        "df['film_title'].value_counts().mean()"
      ]
    },
    {
      "cell_type": "markdown",
      "metadata": {
        "id": "fGqpDdv7xukv"
      },
      "source": [
        "![green-divider](https://user-images.githubusercontent.com/7065401/52071924-c003ad80-2562-11e9-8297-1c6595f8a7ff.png)\n",
        "\n",
        "## Selection & Indexing:"
      ]
    },
    {
      "cell_type": "markdown",
      "metadata": {
        "id": "_cMlVbFTxukv"
      },
      "source": [
        "### Get the rental records of the customer with lastname `HANSEN`"
      ]
    },
    {
      "cell_type": "code",
      "execution_count": 72,
      "metadata": {
        "id": "8DNoUx_yxukv",
        "outputId": "872d950a-5bae-4ae9-8dcd-9e9917c079f5",
        "colab": {
          "base_uri": "https://localhost:8080/",
          "height": 739
        }
      },
      "outputs": [
        {
          "output_type": "execute_result",
          "data": {
            "text/plain": [
              "                  rental_date         return_date customer_lastname  store_id  \\\n",
              "rental_id                                                                       \n",
              "5         2005-05-24 23:05:21 2005-06-02 04:33:21            HANSEN         2   \n",
              "134       2005-05-25 21:48:41 2005-06-02 18:28:41            HANSEN         2   \n",
              "416       2005-05-27 15:02:10 2005-05-29 10:34:10            HANSEN         2   \n",
              "809       2005-05-29 19:10:20 2005-06-05 19:05:20            HANSEN         2   \n",
              "1006      2005-05-31 00:57:08 2005-06-02 22:35:08            HANSEN         2   \n",
              "1368      2005-06-15 14:27:47 2005-06-23 18:07:47            HANSEN         1   \n",
              "2603      2005-06-19 06:21:25 2005-06-26 03:19:25            HANSEN         2   \n",
              "5209      2005-07-09 11:22:39 2005-07-17 09:31:39            HANSEN         1   \n",
              "5266      2005-07-09 14:17:40 2005-07-16 10:42:40            HANSEN         2   \n",
              "5592      2005-07-10 04:26:13 2005-07-19 02:32:13            HANSEN         2   \n",
              "5635      2005-07-10 06:28:39 2005-07-17 08:35:39            HANSEN         2   \n",
              "6129      2005-07-11 08:15:09 2005-07-18 13:00:09            HANSEN         2   \n",
              "6497      2005-07-12 03:04:29 2005-07-17 21:36:29            HANSEN         2   \n",
              "7786      2005-07-28 07:18:26 2005-07-29 03:00:26            HANSEN         2   \n",
              "8300      2005-07-29 02:57:59 2005-08-05 01:12:59            HANSEN         2   \n",
              "8597      2005-07-29 12:55:55 2005-08-05 18:54:55            HANSEN         1   \n",
              "8787      2005-07-29 20:43:49 2005-07-31 15:15:49            HANSEN         2   \n",
              "10043     2005-07-31 19:02:07 2005-08-07 17:58:07            HANSEN         2   \n",
              "12179     2005-08-18 01:21:21 2005-08-19 00:59:21            HANSEN         2   \n",
              "13477     2005-08-20 01:07:00 2005-08-26 02:47:00            HANSEN         2   \n",
              "14350     2005-08-21 08:58:38 2005-08-30 03:29:38            HANSEN         1   \n",
              "\n",
              "          rental_store_city            film_title  film_rental_duration  \\\n",
              "rental_id                                                                 \n",
              "5                 Woodridge       IDOLS SNATCHERS                     5   \n",
              "134               Woodridge         JUMPING WRATH                     4   \n",
              "416               Woodridge      LESSON CLEOPATRA                     3   \n",
              "809               Woodridge           INDIAN LOVE                     4   \n",
              "1006              Woodridge         SALUTE APOLLO                     4   \n",
              "1368             Lethbridge  HUNCHBACK IMPOSSIBLE                     4   \n",
              "2603              Woodridge         CAT CONEHEADS                     5   \n",
              "5209             Lethbridge          WHALE BIKINI                     4   \n",
              "5266              Woodridge      LOATHING LEGALLY                     4   \n",
              "5592              Woodridge            LUKE MUMMY                     5   \n",
              "5635              Woodridge             FISH OPUS                     4   \n",
              "6129              Woodridge           STOCK GLASS                     7   \n",
              "6497              Woodridge         DANCING FEVER                     6   \n",
              "7786              Woodridge           KARATE MOON                     4   \n",
              "8300              Woodridge        VOYAGE LEGALLY                     6   \n",
              "8597             Lethbridge           TUXEDO MILE                     3   \n",
              "8787              Woodridge     LEGALLY SECRETARY                     7   \n",
              "10043             Woodridge            MARS ROMAN                     6   \n",
              "12179             Woodridge     FOREVER CANDIDATE                     7   \n",
              "13477             Woodridge      FINDING ANACONDA                     4   \n",
              "14350            Lethbridge         PRIMARY GLASS                     7   \n",
              "\n",
              "           film_rental_rate  film_replacement_cost film_rating  \\\n",
              "rental_id                                                        \n",
              "5                      2.99                  29.99       NC-17   \n",
              "134                    0.99                  18.99       NC-17   \n",
              "416                    0.99                  28.99       NC-17   \n",
              "809                    0.99                  26.99       NC-17   \n",
              "1006                   2.99                  29.99           R   \n",
              "1368                   4.99                  28.99       PG-13   \n",
              "2603                   4.99                  14.99           G   \n",
              "5209                   4.99                  11.99       PG-13   \n",
              "5266                   0.99                  29.99           R   \n",
              "5592                   2.99                  21.99       NC-17   \n",
              "5635                   2.99                  22.99           R   \n",
              "6129                   2.99                  10.99          PG   \n",
              "6497                   0.99                  25.99           G   \n",
              "7786                   0.99                  21.99       PG-13   \n",
              "8300                   0.99                  28.99       PG-13   \n",
              "8597                   2.99                  24.99           R   \n",
              "8787                   4.99                  14.99          PG   \n",
              "10043                  0.99                  21.99       NC-17   \n",
              "12179                  2.99                  28.99       NC-17   \n",
              "13477                  0.99                  10.99           R   \n",
              "14350                  0.99                  16.99           G   \n",
              "\n",
              "           rental_gain_return  \n",
              "rental_id                      \n",
              "5                    9.969990  \n",
              "134                  5.213270  \n",
              "416                  3.414971  \n",
              "809                  3.668025  \n",
              "1006                 9.969990  \n",
              "1368                17.212832  \n",
              "2603                33.288859  \n",
              "5209                41.618015  \n",
              "5266                 3.301100  \n",
              "5592                13.597090  \n",
              "5635                13.005655  \n",
              "6129                27.206551  \n",
              "6497                 3.809157  \n",
              "7786                 4.502046  \n",
              "8300                 3.414971  \n",
              "8597                11.964786  \n",
              "8787                33.288859  \n",
              "10043                4.502046  \n",
              "12179               10.313901  \n",
              "13477                9.008189  \n",
              "14350                5.826957  "
            ],
            "text/html": [
              "\n",
              "  <div id=\"df-154d6dbb-67f6-4e97-abf7-0fc017eb6d2c\" class=\"colab-df-container\">\n",
              "    <div>\n",
              "<style scoped>\n",
              "    .dataframe tbody tr th:only-of-type {\n",
              "        vertical-align: middle;\n",
              "    }\n",
              "\n",
              "    .dataframe tbody tr th {\n",
              "        vertical-align: top;\n",
              "    }\n",
              "\n",
              "    .dataframe thead th {\n",
              "        text-align: right;\n",
              "    }\n",
              "</style>\n",
              "<table border=\"1\" class=\"dataframe\">\n",
              "  <thead>\n",
              "    <tr style=\"text-align: right;\">\n",
              "      <th></th>\n",
              "      <th>rental_date</th>\n",
              "      <th>return_date</th>\n",
              "      <th>customer_lastname</th>\n",
              "      <th>store_id</th>\n",
              "      <th>rental_store_city</th>\n",
              "      <th>film_title</th>\n",
              "      <th>film_rental_duration</th>\n",
              "      <th>film_rental_rate</th>\n",
              "      <th>film_replacement_cost</th>\n",
              "      <th>film_rating</th>\n",
              "      <th>rental_gain_return</th>\n",
              "    </tr>\n",
              "    <tr>\n",
              "      <th>rental_id</th>\n",
              "      <th></th>\n",
              "      <th></th>\n",
              "      <th></th>\n",
              "      <th></th>\n",
              "      <th></th>\n",
              "      <th></th>\n",
              "      <th></th>\n",
              "      <th></th>\n",
              "      <th></th>\n",
              "      <th></th>\n",
              "      <th></th>\n",
              "    </tr>\n",
              "  </thead>\n",
              "  <tbody>\n",
              "    <tr>\n",
              "      <th>5</th>\n",
              "      <td>2005-05-24 23:05:21</td>\n",
              "      <td>2005-06-02 04:33:21</td>\n",
              "      <td>HANSEN</td>\n",
              "      <td>2</td>\n",
              "      <td>Woodridge</td>\n",
              "      <td>IDOLS SNATCHERS</td>\n",
              "      <td>5</td>\n",
              "      <td>2.99</td>\n",
              "      <td>29.99</td>\n",
              "      <td>NC-17</td>\n",
              "      <td>9.969990</td>\n",
              "    </tr>\n",
              "    <tr>\n",
              "      <th>134</th>\n",
              "      <td>2005-05-25 21:48:41</td>\n",
              "      <td>2005-06-02 18:28:41</td>\n",
              "      <td>HANSEN</td>\n",
              "      <td>2</td>\n",
              "      <td>Woodridge</td>\n",
              "      <td>JUMPING WRATH</td>\n",
              "      <td>4</td>\n",
              "      <td>0.99</td>\n",
              "      <td>18.99</td>\n",
              "      <td>NC-17</td>\n",
              "      <td>5.213270</td>\n",
              "    </tr>\n",
              "    <tr>\n",
              "      <th>416</th>\n",
              "      <td>2005-05-27 15:02:10</td>\n",
              "      <td>2005-05-29 10:34:10</td>\n",
              "      <td>HANSEN</td>\n",
              "      <td>2</td>\n",
              "      <td>Woodridge</td>\n",
              "      <td>LESSON CLEOPATRA</td>\n",
              "      <td>3</td>\n",
              "      <td>0.99</td>\n",
              "      <td>28.99</td>\n",
              "      <td>NC-17</td>\n",
              "      <td>3.414971</td>\n",
              "    </tr>\n",
              "    <tr>\n",
              "      <th>809</th>\n",
              "      <td>2005-05-29 19:10:20</td>\n",
              "      <td>2005-06-05 19:05:20</td>\n",
              "      <td>HANSEN</td>\n",
              "      <td>2</td>\n",
              "      <td>Woodridge</td>\n",
              "      <td>INDIAN LOVE</td>\n",
              "      <td>4</td>\n",
              "      <td>0.99</td>\n",
              "      <td>26.99</td>\n",
              "      <td>NC-17</td>\n",
              "      <td>3.668025</td>\n",
              "    </tr>\n",
              "    <tr>\n",
              "      <th>1006</th>\n",
              "      <td>2005-05-31 00:57:08</td>\n",
              "      <td>2005-06-02 22:35:08</td>\n",
              "      <td>HANSEN</td>\n",
              "      <td>2</td>\n",
              "      <td>Woodridge</td>\n",
              "      <td>SALUTE APOLLO</td>\n",
              "      <td>4</td>\n",
              "      <td>2.99</td>\n",
              "      <td>29.99</td>\n",
              "      <td>R</td>\n",
              "      <td>9.969990</td>\n",
              "    </tr>\n",
              "    <tr>\n",
              "      <th>1368</th>\n",
              "      <td>2005-06-15 14:27:47</td>\n",
              "      <td>2005-06-23 18:07:47</td>\n",
              "      <td>HANSEN</td>\n",
              "      <td>1</td>\n",
              "      <td>Lethbridge</td>\n",
              "      <td>HUNCHBACK IMPOSSIBLE</td>\n",
              "      <td>4</td>\n",
              "      <td>4.99</td>\n",
              "      <td>28.99</td>\n",
              "      <td>PG-13</td>\n",
              "      <td>17.212832</td>\n",
              "    </tr>\n",
              "    <tr>\n",
              "      <th>2603</th>\n",
              "      <td>2005-06-19 06:21:25</td>\n",
              "      <td>2005-06-26 03:19:25</td>\n",
              "      <td>HANSEN</td>\n",
              "      <td>2</td>\n",
              "      <td>Woodridge</td>\n",
              "      <td>CAT CONEHEADS</td>\n",
              "      <td>5</td>\n",
              "      <td>4.99</td>\n",
              "      <td>14.99</td>\n",
              "      <td>G</td>\n",
              "      <td>33.288859</td>\n",
              "    </tr>\n",
              "    <tr>\n",
              "      <th>5209</th>\n",
              "      <td>2005-07-09 11:22:39</td>\n",
              "      <td>2005-07-17 09:31:39</td>\n",
              "      <td>HANSEN</td>\n",
              "      <td>1</td>\n",
              "      <td>Lethbridge</td>\n",
              "      <td>WHALE BIKINI</td>\n",
              "      <td>4</td>\n",
              "      <td>4.99</td>\n",
              "      <td>11.99</td>\n",
              "      <td>PG-13</td>\n",
              "      <td>41.618015</td>\n",
              "    </tr>\n",
              "    <tr>\n",
              "      <th>5266</th>\n",
              "      <td>2005-07-09 14:17:40</td>\n",
              "      <td>2005-07-16 10:42:40</td>\n",
              "      <td>HANSEN</td>\n",
              "      <td>2</td>\n",
              "      <td>Woodridge</td>\n",
              "      <td>LOATHING LEGALLY</td>\n",
              "      <td>4</td>\n",
              "      <td>0.99</td>\n",
              "      <td>29.99</td>\n",
              "      <td>R</td>\n",
              "      <td>3.301100</td>\n",
              "    </tr>\n",
              "    <tr>\n",
              "      <th>5592</th>\n",
              "      <td>2005-07-10 04:26:13</td>\n",
              "      <td>2005-07-19 02:32:13</td>\n",
              "      <td>HANSEN</td>\n",
              "      <td>2</td>\n",
              "      <td>Woodridge</td>\n",
              "      <td>LUKE MUMMY</td>\n",
              "      <td>5</td>\n",
              "      <td>2.99</td>\n",
              "      <td>21.99</td>\n",
              "      <td>NC-17</td>\n",
              "      <td>13.597090</td>\n",
              "    </tr>\n",
              "    <tr>\n",
              "      <th>5635</th>\n",
              "      <td>2005-07-10 06:28:39</td>\n",
              "      <td>2005-07-17 08:35:39</td>\n",
              "      <td>HANSEN</td>\n",
              "      <td>2</td>\n",
              "      <td>Woodridge</td>\n",
              "      <td>FISH OPUS</td>\n",
              "      <td>4</td>\n",
              "      <td>2.99</td>\n",
              "      <td>22.99</td>\n",
              "      <td>R</td>\n",
              "      <td>13.005655</td>\n",
              "    </tr>\n",
              "    <tr>\n",
              "      <th>6129</th>\n",
              "      <td>2005-07-11 08:15:09</td>\n",
              "      <td>2005-07-18 13:00:09</td>\n",
              "      <td>HANSEN</td>\n",
              "      <td>2</td>\n",
              "      <td>Woodridge</td>\n",
              "      <td>STOCK GLASS</td>\n",
              "      <td>7</td>\n",
              "      <td>2.99</td>\n",
              "      <td>10.99</td>\n",
              "      <td>PG</td>\n",
              "      <td>27.206551</td>\n",
              "    </tr>\n",
              "    <tr>\n",
              "      <th>6497</th>\n",
              "      <td>2005-07-12 03:04:29</td>\n",
              "      <td>2005-07-17 21:36:29</td>\n",
              "      <td>HANSEN</td>\n",
              "      <td>2</td>\n",
              "      <td>Woodridge</td>\n",
              "      <td>DANCING FEVER</td>\n",
              "      <td>6</td>\n",
              "      <td>0.99</td>\n",
              "      <td>25.99</td>\n",
              "      <td>G</td>\n",
              "      <td>3.809157</td>\n",
              "    </tr>\n",
              "    <tr>\n",
              "      <th>7786</th>\n",
              "      <td>2005-07-28 07:18:26</td>\n",
              "      <td>2005-07-29 03:00:26</td>\n",
              "      <td>HANSEN</td>\n",
              "      <td>2</td>\n",
              "      <td>Woodridge</td>\n",
              "      <td>KARATE MOON</td>\n",
              "      <td>4</td>\n",
              "      <td>0.99</td>\n",
              "      <td>21.99</td>\n",
              "      <td>PG-13</td>\n",
              "      <td>4.502046</td>\n",
              "    </tr>\n",
              "    <tr>\n",
              "      <th>8300</th>\n",
              "      <td>2005-07-29 02:57:59</td>\n",
              "      <td>2005-08-05 01:12:59</td>\n",
              "      <td>HANSEN</td>\n",
              "      <td>2</td>\n",
              "      <td>Woodridge</td>\n",
              "      <td>VOYAGE LEGALLY</td>\n",
              "      <td>6</td>\n",
              "      <td>0.99</td>\n",
              "      <td>28.99</td>\n",
              "      <td>PG-13</td>\n",
              "      <td>3.414971</td>\n",
              "    </tr>\n",
              "    <tr>\n",
              "      <th>8597</th>\n",
              "      <td>2005-07-29 12:55:55</td>\n",
              "      <td>2005-08-05 18:54:55</td>\n",
              "      <td>HANSEN</td>\n",
              "      <td>1</td>\n",
              "      <td>Lethbridge</td>\n",
              "      <td>TUXEDO MILE</td>\n",
              "      <td>3</td>\n",
              "      <td>2.99</td>\n",
              "      <td>24.99</td>\n",
              "      <td>R</td>\n",
              "      <td>11.964786</td>\n",
              "    </tr>\n",
              "    <tr>\n",
              "      <th>8787</th>\n",
              "      <td>2005-07-29 20:43:49</td>\n",
              "      <td>2005-07-31 15:15:49</td>\n",
              "      <td>HANSEN</td>\n",
              "      <td>2</td>\n",
              "      <td>Woodridge</td>\n",
              "      <td>LEGALLY SECRETARY</td>\n",
              "      <td>7</td>\n",
              "      <td>4.99</td>\n",
              "      <td>14.99</td>\n",
              "      <td>PG</td>\n",
              "      <td>33.288859</td>\n",
              "    </tr>\n",
              "    <tr>\n",
              "      <th>10043</th>\n",
              "      <td>2005-07-31 19:02:07</td>\n",
              "      <td>2005-08-07 17:58:07</td>\n",
              "      <td>HANSEN</td>\n",
              "      <td>2</td>\n",
              "      <td>Woodridge</td>\n",
              "      <td>MARS ROMAN</td>\n",
              "      <td>6</td>\n",
              "      <td>0.99</td>\n",
              "      <td>21.99</td>\n",
              "      <td>NC-17</td>\n",
              "      <td>4.502046</td>\n",
              "    </tr>\n",
              "    <tr>\n",
              "      <th>12179</th>\n",
              "      <td>2005-08-18 01:21:21</td>\n",
              "      <td>2005-08-19 00:59:21</td>\n",
              "      <td>HANSEN</td>\n",
              "      <td>2</td>\n",
              "      <td>Woodridge</td>\n",
              "      <td>FOREVER CANDIDATE</td>\n",
              "      <td>7</td>\n",
              "      <td>2.99</td>\n",
              "      <td>28.99</td>\n",
              "      <td>NC-17</td>\n",
              "      <td>10.313901</td>\n",
              "    </tr>\n",
              "    <tr>\n",
              "      <th>13477</th>\n",
              "      <td>2005-08-20 01:07:00</td>\n",
              "      <td>2005-08-26 02:47:00</td>\n",
              "      <td>HANSEN</td>\n",
              "      <td>2</td>\n",
              "      <td>Woodridge</td>\n",
              "      <td>FINDING ANACONDA</td>\n",
              "      <td>4</td>\n",
              "      <td>0.99</td>\n",
              "      <td>10.99</td>\n",
              "      <td>R</td>\n",
              "      <td>9.008189</td>\n",
              "    </tr>\n",
              "    <tr>\n",
              "      <th>14350</th>\n",
              "      <td>2005-08-21 08:58:38</td>\n",
              "      <td>2005-08-30 03:29:38</td>\n",
              "      <td>HANSEN</td>\n",
              "      <td>1</td>\n",
              "      <td>Lethbridge</td>\n",
              "      <td>PRIMARY GLASS</td>\n",
              "      <td>7</td>\n",
              "      <td>0.99</td>\n",
              "      <td>16.99</td>\n",
              "      <td>G</td>\n",
              "      <td>5.826957</td>\n",
              "    </tr>\n",
              "  </tbody>\n",
              "</table>\n",
              "</div>\n",
              "    <div class=\"colab-df-buttons\">\n",
              "\n",
              "  <div class=\"colab-df-container\">\n",
              "    <button class=\"colab-df-convert\" onclick=\"convertToInteractive('df-154d6dbb-67f6-4e97-abf7-0fc017eb6d2c')\"\n",
              "            title=\"Convert this dataframe to an interactive table.\"\n",
              "            style=\"display:none;\">\n",
              "\n",
              "  <svg xmlns=\"http://www.w3.org/2000/svg\" height=\"24px\" viewBox=\"0 -960 960 960\">\n",
              "    <path d=\"M120-120v-720h720v720H120Zm60-500h600v-160H180v160Zm220 220h160v-160H400v160Zm0 220h160v-160H400v160ZM180-400h160v-160H180v160Zm440 0h160v-160H620v160ZM180-180h160v-160H180v160Zm440 0h160v-160H620v160Z\"/>\n",
              "  </svg>\n",
              "    </button>\n",
              "\n",
              "  <style>\n",
              "    .colab-df-container {\n",
              "      display:flex;\n",
              "      gap: 12px;\n",
              "    }\n",
              "\n",
              "    .colab-df-convert {\n",
              "      background-color: #E8F0FE;\n",
              "      border: none;\n",
              "      border-radius: 50%;\n",
              "      cursor: pointer;\n",
              "      display: none;\n",
              "      fill: #1967D2;\n",
              "      height: 32px;\n",
              "      padding: 0 0 0 0;\n",
              "      width: 32px;\n",
              "    }\n",
              "\n",
              "    .colab-df-convert:hover {\n",
              "      background-color: #E2EBFA;\n",
              "      box-shadow: 0px 1px 2px rgba(60, 64, 67, 0.3), 0px 1px 3px 1px rgba(60, 64, 67, 0.15);\n",
              "      fill: #174EA6;\n",
              "    }\n",
              "\n",
              "    .colab-df-buttons div {\n",
              "      margin-bottom: 4px;\n",
              "    }\n",
              "\n",
              "    [theme=dark] .colab-df-convert {\n",
              "      background-color: #3B4455;\n",
              "      fill: #D2E3FC;\n",
              "    }\n",
              "\n",
              "    [theme=dark] .colab-df-convert:hover {\n",
              "      background-color: #434B5C;\n",
              "      box-shadow: 0px 1px 3px 1px rgba(0, 0, 0, 0.15);\n",
              "      filter: drop-shadow(0px 1px 2px rgba(0, 0, 0, 0.3));\n",
              "      fill: #FFFFFF;\n",
              "    }\n",
              "  </style>\n",
              "\n",
              "    <script>\n",
              "      const buttonEl =\n",
              "        document.querySelector('#df-154d6dbb-67f6-4e97-abf7-0fc017eb6d2c button.colab-df-convert');\n",
              "      buttonEl.style.display =\n",
              "        google.colab.kernel.accessAllowed ? 'block' : 'none';\n",
              "\n",
              "      async function convertToInteractive(key) {\n",
              "        const element = document.querySelector('#df-154d6dbb-67f6-4e97-abf7-0fc017eb6d2c');\n",
              "        const dataTable =\n",
              "          await google.colab.kernel.invokeFunction('convertToInteractive',\n",
              "                                                    [key], {});\n",
              "        if (!dataTable) return;\n",
              "\n",
              "        const docLinkHtml = 'Like what you see? Visit the ' +\n",
              "          '<a target=\"_blank\" href=https://colab.research.google.com/notebooks/data_table.ipynb>data table notebook</a>'\n",
              "          + ' to learn more about interactive tables.';\n",
              "        element.innerHTML = '';\n",
              "        dataTable['output_type'] = 'display_data';\n",
              "        await google.colab.output.renderOutput(dataTable, element);\n",
              "        const docLink = document.createElement('div');\n",
              "        docLink.innerHTML = docLinkHtml;\n",
              "        element.appendChild(docLink);\n",
              "      }\n",
              "    </script>\n",
              "  </div>\n",
              "\n",
              "\n",
              "<div id=\"df-1562f6fe-31b0-479e-a83f-142c907f0de6\">\n",
              "  <button class=\"colab-df-quickchart\" onclick=\"quickchart('df-1562f6fe-31b0-479e-a83f-142c907f0de6')\"\n",
              "            title=\"Suggest charts\"\n",
              "            style=\"display:none;\">\n",
              "\n",
              "<svg xmlns=\"http://www.w3.org/2000/svg\" height=\"24px\"viewBox=\"0 0 24 24\"\n",
              "     width=\"24px\">\n",
              "    <g>\n",
              "        <path d=\"M19 3H5c-1.1 0-2 .9-2 2v14c0 1.1.9 2 2 2h14c1.1 0 2-.9 2-2V5c0-1.1-.9-2-2-2zM9 17H7v-7h2v7zm4 0h-2V7h2v10zm4 0h-2v-4h2v4z\"/>\n",
              "    </g>\n",
              "</svg>\n",
              "  </button>\n",
              "\n",
              "<style>\n",
              "  .colab-df-quickchart {\n",
              "      --bg-color: #E8F0FE;\n",
              "      --fill-color: #1967D2;\n",
              "      --hover-bg-color: #E2EBFA;\n",
              "      --hover-fill-color: #174EA6;\n",
              "      --disabled-fill-color: #AAA;\n",
              "      --disabled-bg-color: #DDD;\n",
              "  }\n",
              "\n",
              "  [theme=dark] .colab-df-quickchart {\n",
              "      --bg-color: #3B4455;\n",
              "      --fill-color: #D2E3FC;\n",
              "      --hover-bg-color: #434B5C;\n",
              "      --hover-fill-color: #FFFFFF;\n",
              "      --disabled-bg-color: #3B4455;\n",
              "      --disabled-fill-color: #666;\n",
              "  }\n",
              "\n",
              "  .colab-df-quickchart {\n",
              "    background-color: var(--bg-color);\n",
              "    border: none;\n",
              "    border-radius: 50%;\n",
              "    cursor: pointer;\n",
              "    display: none;\n",
              "    fill: var(--fill-color);\n",
              "    height: 32px;\n",
              "    padding: 0;\n",
              "    width: 32px;\n",
              "  }\n",
              "\n",
              "  .colab-df-quickchart:hover {\n",
              "    background-color: var(--hover-bg-color);\n",
              "    box-shadow: 0 1px 2px rgba(60, 64, 67, 0.3), 0 1px 3px 1px rgba(60, 64, 67, 0.15);\n",
              "    fill: var(--button-hover-fill-color);\n",
              "  }\n",
              "\n",
              "  .colab-df-quickchart-complete:disabled,\n",
              "  .colab-df-quickchart-complete:disabled:hover {\n",
              "    background-color: var(--disabled-bg-color);\n",
              "    fill: var(--disabled-fill-color);\n",
              "    box-shadow: none;\n",
              "  }\n",
              "\n",
              "  .colab-df-spinner {\n",
              "    border: 2px solid var(--fill-color);\n",
              "    border-color: transparent;\n",
              "    border-bottom-color: var(--fill-color);\n",
              "    animation:\n",
              "      spin 1s steps(1) infinite;\n",
              "  }\n",
              "\n",
              "  @keyframes spin {\n",
              "    0% {\n",
              "      border-color: transparent;\n",
              "      border-bottom-color: var(--fill-color);\n",
              "      border-left-color: var(--fill-color);\n",
              "    }\n",
              "    20% {\n",
              "      border-color: transparent;\n",
              "      border-left-color: var(--fill-color);\n",
              "      border-top-color: var(--fill-color);\n",
              "    }\n",
              "    30% {\n",
              "      border-color: transparent;\n",
              "      border-left-color: var(--fill-color);\n",
              "      border-top-color: var(--fill-color);\n",
              "      border-right-color: var(--fill-color);\n",
              "    }\n",
              "    40% {\n",
              "      border-color: transparent;\n",
              "      border-right-color: var(--fill-color);\n",
              "      border-top-color: var(--fill-color);\n",
              "    }\n",
              "    60% {\n",
              "      border-color: transparent;\n",
              "      border-right-color: var(--fill-color);\n",
              "    }\n",
              "    80% {\n",
              "      border-color: transparent;\n",
              "      border-right-color: var(--fill-color);\n",
              "      border-bottom-color: var(--fill-color);\n",
              "    }\n",
              "    90% {\n",
              "      border-color: transparent;\n",
              "      border-bottom-color: var(--fill-color);\n",
              "    }\n",
              "  }\n",
              "</style>\n",
              "\n",
              "  <script>\n",
              "    async function quickchart(key) {\n",
              "      const quickchartButtonEl =\n",
              "        document.querySelector('#' + key + ' button');\n",
              "      quickchartButtonEl.disabled = true;  // To prevent multiple clicks.\n",
              "      quickchartButtonEl.classList.add('colab-df-spinner');\n",
              "      try {\n",
              "        const charts = await google.colab.kernel.invokeFunction(\n",
              "            'suggestCharts', [key], {});\n",
              "      } catch (error) {\n",
              "        console.error('Error during call to suggestCharts:', error);\n",
              "      }\n",
              "      quickchartButtonEl.classList.remove('colab-df-spinner');\n",
              "      quickchartButtonEl.classList.add('colab-df-quickchart-complete');\n",
              "    }\n",
              "    (() => {\n",
              "      let quickchartButtonEl =\n",
              "        document.querySelector('#df-1562f6fe-31b0-479e-a83f-142c907f0de6 button');\n",
              "      quickchartButtonEl.style.display =\n",
              "        google.colab.kernel.accessAllowed ? 'block' : 'none';\n",
              "    })();\n",
              "  </script>\n",
              "</div>\n",
              "\n",
              "    </div>\n",
              "  </div>\n"
            ],
            "application/vnd.google.colaboratory.intrinsic+json": {
              "type": "dataframe",
              "summary": "{\n  \"name\": \"df\",\n  \"rows\": 21,\n  \"fields\": [\n    {\n      \"column\": \"rental_id\",\n      \"properties\": {\n        \"dtype\": \"number\",\n        \"std\": 4422,\n        \"min\": 5,\n        \"max\": 14350,\n        \"num_unique_values\": 21,\n        \"samples\": [\n          5,\n          10043,\n          8597\n        ],\n        \"semantic_type\": \"\",\n        \"description\": \"\"\n      }\n    },\n    {\n      \"column\": \"rental_date\",\n      \"properties\": {\n        \"dtype\": \"date\",\n        \"min\": \"2005-05-24 23:05:21\",\n        \"max\": \"2005-08-21 08:58:38\",\n        \"num_unique_values\": 21,\n        \"samples\": [\n          \"2005-05-24 23:05:21\",\n          \"2005-07-31 19:02:07\",\n          \"2005-07-29 12:55:55\"\n        ],\n        \"semantic_type\": \"\",\n        \"description\": \"\"\n      }\n    },\n    {\n      \"column\": \"return_date\",\n      \"properties\": {\n        \"dtype\": \"date\",\n        \"min\": \"2005-05-29 10:34:10\",\n        \"max\": \"2005-08-30 03:29:38\",\n        \"num_unique_values\": 21,\n        \"samples\": [\n          \"2005-06-02 04:33:21\",\n          \"2005-08-07 17:58:07\",\n          \"2005-08-05 18:54:55\"\n        ],\n        \"semantic_type\": \"\",\n        \"description\": \"\"\n      }\n    },\n    {\n      \"column\": \"customer_lastname\",\n      \"properties\": {\n        \"dtype\": \"category\",\n        \"num_unique_values\": 1,\n        \"samples\": [\n          \"HANSEN\"\n        ],\n        \"semantic_type\": \"\",\n        \"description\": \"\"\n      }\n    },\n    {\n      \"column\": \"store_id\",\n      \"properties\": {\n        \"dtype\": \"number\",\n        \"std\": 0,\n        \"min\": 1,\n        \"max\": 2,\n        \"num_unique_values\": 2,\n        \"samples\": [\n          1\n        ],\n        \"semantic_type\": \"\",\n        \"description\": \"\"\n      }\n    },\n    {\n      \"column\": \"rental_store_city\",\n      \"properties\": {\n        \"dtype\": \"category\",\n        \"num_unique_values\": 2,\n        \"samples\": [\n          \"Lethbridge\"\n        ],\n        \"semantic_type\": \"\",\n        \"description\": \"\"\n      }\n    },\n    {\n      \"column\": \"film_title\",\n      \"properties\": {\n        \"dtype\": \"string\",\n        \"num_unique_values\": 21,\n        \"samples\": [\n          \"IDOLS SNATCHERS\"\n        ],\n        \"semantic_type\": \"\",\n        \"description\": \"\"\n      }\n    },\n    {\n      \"column\": \"film_rental_duration\",\n      \"properties\": {\n        \"dtype\": \"number\",\n        \"std\": 1,\n        \"min\": 3,\n        \"max\": 7,\n        \"num_unique_values\": 5,\n        \"samples\": [\n          4\n        ],\n        \"semantic_type\": \"\",\n        \"description\": \"\"\n      }\n    },\n    {\n      \"column\": \"film_rental_rate\",\n      \"properties\": {\n        \"dtype\": \"number\",\n        \"std\": 1.567527625639452,\n        \"min\": 0.99,\n        \"max\": 4.99,\n        \"num_unique_values\": 3,\n        \"samples\": [\n          2.99\n        ],\n        \"semantic_type\": \"\",\n        \"description\": \"\"\n      }\n    },\n    {\n      \"column\": \"film_replacement_cost\",\n      \"properties\": {\n        \"dtype\": \"number\",\n        \"std\": 6.735124702773123,\n        \"min\": 10.99,\n        \"max\": 29.99,\n        \"num_unique_values\": 12,\n        \"samples\": [\n          24.99\n        ],\n        \"semantic_type\": \"\",\n        \"description\": \"\"\n      }\n    },\n    {\n      \"column\": \"film_rating\",\n      \"properties\": {\n        \"dtype\": \"category\",\n        \"num_unique_values\": 5,\n        \"samples\": [\n          \"R\"\n        ],\n        \"semantic_type\": \"\",\n        \"description\": \"\"\n      }\n    },\n    {\n      \"column\": \"rental_gain_return\",\n      \"properties\": {\n        \"dtype\": \"number\",\n        \"std\": 11.422616539105785,\n        \"min\": 3.30110036678893,\n        \"max\": 41.618015012510426,\n        \"num_unique_values\": 17,\n        \"samples\": [\n          9.969989996665557\n        ],\n        \"semantic_type\": \"\",\n        \"description\": \"\"\n      }\n    }\n  ]\n}"
            }
          },
          "metadata": {},
          "execution_count": 72
        }
      ],
      "source": [
        "df.loc[df['customer_lastname'] == 'HANSEN']"
      ]
    },
    {
      "cell_type": "markdown",
      "metadata": {
        "id": "O73NVZbMxukv"
      },
      "source": [
        "### Create a list of all the films with the highest replacement cost"
      ]
    },
    {
      "cell_type": "code",
      "execution_count": 73,
      "metadata": {
        "id": "Lu_vLe1zxukv",
        "outputId": "b4111170-13d4-46ee-9f3a-b83293bd3d09",
        "colab": {
          "base_uri": "https://localhost:8080/"
        }
      },
      "outputs": [
        {
          "output_type": "execute_result",
          "data": {
            "text/plain": [
              "29.99"
            ]
          },
          "metadata": {},
          "execution_count": 73
        }
      ],
      "source": [
        "df['film_replacement_cost'].max()"
      ]
    },
    {
      "cell_type": "code",
      "execution_count": 74,
      "metadata": {
        "id": "iNmqoaCCxukw",
        "outputId": "80234ad7-8ec8-48dc-8277-091c78c2f9fa",
        "colab": {
          "base_uri": "https://localhost:8080/"
        }
      },
      "outputs": [
        {
          "output_type": "execute_result",
          "data": {
            "text/plain": [
              "array(['IDOLS SNATCHERS', 'LAWLESS VISION', 'SONG HEDWIG',\n",
              "       'LOATHING LEGALLY', 'PATIENT SISTER', 'RESERVOIR ADAPTATION',\n",
              "       'JEEPERS WEDDING', 'GOLDFINGER SENSIBILITY', 'CHARIOTS CONSPIRACY',\n",
              "       'HONEY TIES', 'GRAFFITI LOVE', 'SLACKER LIAISONS', 'DIRTY ACE',\n",
              "       'BLINDNESS GUN', 'WYOMING STORM', 'FEUD FROGMEN', 'SALUTE APOLLO',\n",
              "       'JINGLE SAGEBRUSH', 'HILLS NEIGHBORS', 'UNCUT SUICIDES',\n",
              "       'EVERYONE CRAFT', 'FLATLINERS KILLER', 'BALLROOM MOCKINGBIRD',\n",
              "       'RIVER OUTLAW', 'ARABIA DOGMA', 'VIRGIN DAISY', 'JERICHO MULAN',\n",
              "       'SASSY PACKER', 'TRACY CIDER', 'LOVER TRUMAN', 'DOCTOR GRAIL',\n",
              "       'GILMORE BOILED', 'PRINCESS GIANT', 'CRUELTY UNFORGIVEN',\n",
              "       'REIGN GENTLEMEN', 'WEST LION', 'BONNIE HOLOCAUST', 'EARTH VISION',\n",
              "       'RANDOM GO', 'CLOCKWORK PARADISE', 'FANTASIA PARK', 'RIGHT CRANES',\n",
              "       'CUPBOARD SINNERS', 'OSCAR GOLD', 'SMILE EARRING',\n",
              "       'HOLLYWOOD ANONYMOUS', 'POSEIDON FOREVER',\n",
              "       'EXTRAORDINARY CONQUERER', 'QUEST MUSSOLINI', 'JAPANESE RUN',\n",
              "       'CLYDE THEORY', 'DESPERATE TRAINSPOTTING'], dtype=object)"
            ]
          },
          "metadata": {},
          "execution_count": 74
        }
      ],
      "source": [
        "df.loc[df['film_replacement_cost'] == df['film_replacement_cost'].max(), 'film_title'].unique()"
      ]
    },
    {
      "cell_type": "markdown",
      "metadata": {
        "id": "tpRNL2VAxukw"
      },
      "source": [
        "### How many `PG` or `PG-13` rating films were rented?"
      ]
    },
    {
      "cell_type": "code",
      "execution_count": null,
      "metadata": {
        "id": "M7OYfJkFxukz",
        "outputId": "f72d24ae-d5f4-415a-eec0-378fb3288972"
      },
      "outputs": [
        {
          "data": {
            "text/plain": [
              "6797"
            ]
          },
          "execution_count": 26,
          "metadata": {},
          "output_type": "execute_result"
        }
      ],
      "source": [
        "df.loc[(df['film_rating'] == 'PG') | (df['film_rating'] == 'PG-13')].shape[0]"
      ]
    },
    {
      "cell_type": "markdown",
      "metadata": {
        "id": "xbkHCpA5xukz"
      },
      "source": [
        "![purple-divider](https://user-images.githubusercontent.com/7065401/52071927-c1cd7100-2562-11e9-908a-dde91ba14e59.png)"
      ]
    }
  ],
  "metadata": {
    "kernelspec": {
      "display_name": "Python 3",
      "language": "python",
      "name": "python3"
    },
    "language_info": {
      "codemirror_mode": {
        "name": "ipython",
        "version": 3
      },
      "file_extension": ".py",
      "mimetype": "text/x-python",
      "name": "python",
      "nbconvert_exporter": "python",
      "pygments_lexer": "ipython3",
      "version": "3.8.1"
    },
    "colab": {
      "provenance": []
    }
  },
  "nbformat": 4,
  "nbformat_minor": 0
}